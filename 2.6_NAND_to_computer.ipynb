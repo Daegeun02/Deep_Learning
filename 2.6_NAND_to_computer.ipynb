{
 "cells": [
  {
   "cell_type": "markdown",
   "id": "ab390565",
   "metadata": {},
   "source": [
    "이러한 다층 퍼셉트론을 활용하면 더 복잡한 회로를 만들 수 있다.\n",
    "예를 들면, 덧셈을 처리하는 가산기도 만들 수 있다. 2진수를 10진수로 변환하는 인코더, 어떤 조건을 충족시키면 1을 출력하는 회로(패리티 검사 회로)도 퍼셉트론으로 표현할 수 있다.\n",
    "이 퍼셉트론을 이용하면 컴퓨터마저 표현할 수 있다.\n",
    "\n",
    "컴퓨터도 입력을 받고 정해진 방법으로 결과를 도출한다. 이는 퍼셉트론처럼 입력과 출력을 구성된 특정 규칙대로 계산을 수행한다는 뜻이다.\n",
    "\n",
    "실제로 컴퓨터 내부에서 이뤄지는 처리는 NAND 게이트의 조합만으로 컴퓨터가 수행하는 일을 재현할 수 있다. 이는 2층 퍼셉트론이 비선형인 시그모이드 함수를 활성화 함수로 이용하여 임의의 함수를 표현할 수 있다는 사실이 앞선 내용에서 증명되었다.\n",
    "\n",
    "실제로도 NAND 게이트 등의 저수준 소자에서 시작하여 컴퓨터를 만드는 데 필요한 부품을 단계적으로 만들어가는 쪽이 자연스러운 방법이다.\n",
    "\n",
    "1. AND와 OR 게이트\n",
    "2. 반가산기와 전가산기\n",
    "3. 산술 논리 연산 장치(ALU)\n",
    "4. CPU\n",
    "\n",
    "따라서 퍼셉트론으로 표현하는 컴퓨터도 여러 츠응ㄹ 다시 층층이 겹친 구조로 만드는 방향이 자연스러운 흐름이다."
   ]
  }
 ],
 "metadata": {
  "kernelspec": {
   "display_name": "Python 3 (ipykernel)",
   "language": "python",
   "name": "python3"
  },
  "language_info": {
   "codemirror_mode": {
    "name": "ipython",
    "version": 3
   },
   "file_extension": ".py",
   "mimetype": "text/x-python",
   "name": "python",
   "nbconvert_exporter": "python",
   "pygments_lexer": "ipython3",
   "version": "3.7.1"
  }
 },
 "nbformat": 4,
 "nbformat_minor": 5
}
