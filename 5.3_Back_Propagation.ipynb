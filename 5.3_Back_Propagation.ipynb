{
 "cells": [
  {
   "cell_type": "markdown",
   "id": "fd68c524",
   "metadata": {},
   "source": [
    "# 5.3.1 덧셈 노드의 역전파"
   ]
  },
  {
   "cell_type": "markdown",
   "id": "3feeafea",
   "metadata": {},
   "source": [
    "먼저 덧셈 노드의 역전파이다. 여기에서는 $z=x+y$라는 식을 대상으로 그 역전파를 살펴보자. 우선 $z=x+y$의 미분은 다음과 같이 해석적으로 계산할 수 있다.\n",
    "$\n",
    "{\\partial z \\over \\partial x} = 1 \\\\\n",
    "{\\partial z \\over \\partial y} = 1\n",
    "\\qquad$ [식 5.5]\n",
    "\n",
    "[식 5.5]에서와 같이 ${\\partial z \\over \\partial x}$ 와 ${\\partial z \\over \\partial z}$는 모두 1이 된다. 이를 계산 그래프로는 다음과 같다.\n",
    "\n",
    "<img src=images/5_09.png height=100px width=500px>\n",
    "\n",
    "위의 그림과 같이 역전파 때는 상류에서 전해진 미분(위 예에서는 ${\\partial L \\over \\partial z}$)에 1을 곱하여 하류로 흘린다. 즉, 덧셈 노드으 ㅣ역전파는 1을 곱하기만 할 뿐이므로 입력된 값을 그대로 다음 노드로 보내게 된다.<br>\n",
    "이 예에서 상류에서 전해진 미분 값을 ${\\partial L \\over \\partial z}$라 하였는데, 이는 밑의 그림과 같이 최종적으로 L이라는 값을 출력하는 큰 계산 그래프를 가정하기 때문이다. $z=x+y$ 계산은 그 큰 계산 그래프의 중간 어딘가에 존재하고, 상류로부터 ${\\partial L \\over \\partial z}$ 값이 전해진 것이다. 그리고 다시 하류로 ${\\partial z \\over \\partial x}$과${\\partial z \\over \\partial y}$ 값을 전달하는 것이다.\n",
    "\n",
    "<img src=images/5_10.png height=100px width=500px>"
   ]
  },
  {
   "cell_type": "markdown",
   "id": "6b12d7ca",
   "metadata": {},
   "source": [
    "구체적인 예를 들어보자. 가령 \"10+5=15\"라는 계산이 있고, 상류에서 1.3이라는 값이 흘러들어온다. 이를 계산 그래프로 그리면 다음과 같다.\n",
    "\n",
    "<img src=images/5_11.png height=100px width=500px>"
   ]
  },
  {
   "cell_type": "markdown",
   "id": "029d5319",
   "metadata": {},
   "source": [
    "# 5.3.2 곱셈 노드의 역전파"
   ]
  },
  {
   "cell_type": "markdown",
   "id": "e9d1fbaa",
   "metadata": {},
   "source": [
    "다음은 곱셈 노드의 역전파이다. $z=xy$라는 식을 생각해보자. 이 식의 미분은 다음과 같다.\n",
    "$\n",
    "{\\partial z \\over \\partial x} = y \\\\\n",
    "{\\partial z \\over \\partial y} = x\n",
    "\\qquad$ [식 5.6]\n",
    "\n",
    "[식 5.6]에서 계산 그래프는 다음과 같이 그릴 수 있다.\n",
    "\n",
    "<img src=images/5_12.png height=100px width=500px>\n",
    "\n",
    "곱셈 노드의 역전파는 상류의 값에 순전파 때의 입력 신호들을 \"서로 바꾼 값\"을 곱해서 하류로 보낸다. 서로 바꾼깞이란 아래 그림처럼 순전파 때 x였다면 역전파에서는 y, 순전파 때 y였다면 역전파에서는 x로 바뀐다는 의미이다.<br>\n",
    "구체적인 예를 들어보자. 가령 \"5x10=50\"이라는 계산이 있고, 역전파 때 상류에서 1.3 값이 흘러들어온다고 하자. 이를 계산 그래프로 그리면 다음과 같이 된다.\n",
    "\n",
    "<img src=images/5_13.png height=100px width=500px>"
   ]
  },
  {
   "cell_type": "markdown",
   "id": "4a0b6d87",
   "metadata": {},
   "source": [
    "덧셈의 역전파에서는 상류의 값을 그대로 흘려보내서 순방향 입력 신호의 값은 필요하지 않지만, 곱셈의 역전파는 순뱡향 입력 신호의 값이 필요하다. 그래서 곱셈 노드를 구현할 때는 순전파의 입력 신호를 변수에 저장해둔다."
   ]
  },
  {
   "cell_type": "markdown",
   "id": "65e6b88b",
   "metadata": {},
   "source": [
    "# 5.3.3 사과 쇼핑의 예"
   ]
  },
  {
   "cell_type": "markdown",
   "id": "303414f4",
   "metadata": {},
   "source": [
    "사과 쇼핑의 예를 다시 살펴보자. 이 문제에서는 사과의 가격, 사과의 개수, 소비세라는 세 변수가 각각이 최종 금액에 어떻게 영향을 주느냐를 풀고자 한다. 이는 \"사과 가격에 대한 지불 금액의 미분\", \"사과 개수에 대한 지불 금액의 미분\", \"소비세에 대한 지불 금액의 미분을 구하는 것에 해당한다. 이를 계산 그래프에 역전파를 이용해서 풀면 다음과 같다.\n",
    "\n",
    "<img src=images/5_14.png height=100px width=500px>"
   ]
  },
  {
   "cell_type": "markdown",
   "id": "97e80e7f",
   "metadata": {},
   "source": [
    "지금까지 설명한 바와 같이 곱셈 노드의 역전파에서는 입력 신호를 서로 바꿔서 하류로 흘린다. 그림의 결과를 보면 사과 가격의 미분은 2.2, 사과 개수의 미분은 110, 소비세의 미분은 200이다. 이는 소비세와 사과 가격이 같은 양만큼 오르면 최종 금액에는 소비세가 200의 크기로, 사과 가격이 2.2 크기로 영향을 준다고 해석할 수 있다. 단, 이 예에서 소비세와 사과 가격은 단위가 다르니 주의해야 한다."
   ]
  },
  {
   "cell_type": "markdown",
   "id": "33abac06",
   "metadata": {},
   "source": [
    "마지막으로 \"사과와 귤 쇼핑\"의 역전파를 풀어보자.<br> \n",
    "푼 결과는 다음과 같다.\n",
    "\n",
    "<img src=images/5_15.png height=100px width=500px>"
   ]
  }
 ],
 "metadata": {
  "kernelspec": {
   "display_name": "Python 3 (ipykernel)",
   "language": "python",
   "name": "python3"
  },
  "language_info": {
   "codemirror_mode": {
    "name": "ipython",
    "version": 3
   },
   "file_extension": ".py",
   "mimetype": "text/x-python",
   "name": "python",
   "nbconvert_exporter": "python",
   "pygments_lexer": "ipython3",
   "version": "3.7.1"
  }
 },
 "nbformat": 4,
 "nbformat_minor": 5
}
