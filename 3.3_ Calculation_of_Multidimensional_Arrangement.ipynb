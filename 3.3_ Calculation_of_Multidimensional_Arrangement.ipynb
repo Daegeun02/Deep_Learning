{
 "cells": [
  {
   "cell_type": "markdown",
   "id": "4650800a",
   "metadata": {},
   "source": [
    "# 3.3.1 다차원 배열"
   ]
  },
  {
   "cell_type": "markdown",
   "id": "91bb1c02",
   "metadata": {},
   "source": [
    "다차원 배열도 그 기본은 \"숫자의 집합\"이다."
   ]
  },
  {
   "cell_type": "code",
   "execution_count": 2,
   "id": "a55f7d7b",
   "metadata": {},
   "outputs": [
    {
     "name": "stdout",
     "output_type": "stream",
     "text": [
      "[1 2 3 4]\n",
      "1\n",
      "(4,)\n",
      "4\n"
     ]
    }
   ],
   "source": [
    "import numpy as np\n",
    "\n",
    "A = np.array([1, 2, 3, 4])\n",
    "\n",
    "print(A)\n",
    "print(np.ndim(A))\n",
    "print(A.shape)\n",
    "print(A.shape[0])"
   ]
  },
  {
   "cell_type": "markdown",
   "id": "b09c4dc9",
   "metadata": {},
   "source": [
    "이는 지금까지 보아온 1차원 배열이다.\n",
    "\n",
    "(ex. x = np.arange(-5, 5, 0.1)\n",
    "\n",
    "배열의 차원수는 np.ndim() 메소드를 활용해 알 수 있다. 배열의 형상은 shape 메소드를 활용해 알 수 있다."
   ]
  },
  {
   "cell_type": "code",
   "execution_count": 3,
   "id": "c53c9f59",
   "metadata": {},
   "outputs": [
    {
     "name": "stdout",
     "output_type": "stream",
     "text": [
      "[[1 2]\n",
      " [3 4]\n",
      " [5 6]]\n",
      "2\n",
      "(3, 2)\n"
     ]
    }
   ],
   "source": [
    "B = np.array([[1, 2], [3, 4], [5, 6]])\n",
    "\n",
    "print(B)\n",
    "print(np.ndim(B))\n",
    "print(B.shape)"
   ]
  },
  {
   "cell_type": "markdown",
   "id": "3b91c596",
   "metadata": {},
   "source": [
    "이는 2차원 배열인데, 행렬(Matrix) 라고도 부른다."
   ]
  },
  {
   "cell_type": "markdown",
   "id": "21c93b82",
   "metadata": {},
   "source": [
    "# 3.3.2 행렬의 곱"
   ]
  },
  {
   "cell_type": "markdown",
   "id": "99fb0e4a",
   "metadata": {},
   "source": [
    "우선 $2 \\times 2$ 행렬의 곱을 살펴보면, \n",
    "\n",
    "$\n",
    "\\begin{pmatrix}\n",
    "1 & 2 \\\\\n",
    "3 & 4\n",
    "\\end{pmatrix}\n",
    "\\begin{pmatrix}\n",
    "5 & 6 \\\\\n",
    "7 & 8\n",
    "\\end{pmatrix} \n",
    "\\quad = \\quad\n",
    "\\begin{pmatrix}\n",
    "19 & 22 \\\\\n",
    "43 & 50\n",
    "\\end{pmatrix}\n",
    "$\n",
    "\n",
    "이와 같이 계산한다."
   ]
  },
  {
   "cell_type": "markdown",
   "id": "26e345a7",
   "metadata": {},
   "source": [
    "행렬의 곱은 왼쪽 행렬의 row 벡터에 오른쪽 행렬의 column 벡터의 내적을 구해 칸을 채우게 한다.\n",
    "\n",
    "$\n",
    "\\begin{pmatrix}\n",
    "\\begin{bmatrix}\n",
    "1 & 2\n",
    "\\end{bmatrix} \\\\\n",
    "\\begin{bmatrix}\n",
    "3 & 4\n",
    "\\end{bmatrix}\n",
    "\\end{pmatrix}\n",
    "\\begin{pmatrix}\n",
    "\\begin{bmatrix}\n",
    "5 \\\\ 7\n",
    "\\end{bmatrix} &\n",
    "\\begin{bmatrix}\n",
    "6 \\\\ 8\n",
    "\\end{bmatrix}\n",
    "\\end{pmatrix}\n",
    "\\quad = \\quad\n",
    "\\begin{pmatrix}\n",
    "\\begin{bmatrix}\n",
    "1 & 2\n",
    "\\end{bmatrix}^T\n",
    "\\begin{bmatrix}\n",
    "5 & 7\n",
    "\\end{bmatrix} &\n",
    "\\begin{bmatrix}\n",
    "1 & 2\n",
    "\\end{bmatrix}^T\n",
    "\\begin{bmatrix}\n",
    "6 & 8\n",
    "\\end{bmatrix} \\\\\n",
    "\\begin{bmatrix}\n",
    "3 & 4\n",
    "\\end{bmatrix}^T\n",
    "\\begin{bmatrix}\n",
    "5 & 7\n",
    "\\end{bmatrix} &\n",
    "\\begin{bmatrix}\n",
    "3 & 4\n",
    "\\end{bmatrix}^T\n",
    "\\begin{bmatrix}\n",
    "6 & 8\n",
    "\\end{bmatrix}\n",
    "\\end{pmatrix}\n",
    "$"
   ]
  },
  {
   "cell_type": "code",
   "execution_count": 4,
   "id": "d8b595df",
   "metadata": {},
   "outputs": [
    {
     "name": "stdout",
     "output_type": "stream",
     "text": [
      "(2, 2)\n",
      "(2, 2)\n",
      "[[19 22]\n",
      " [43 50]]\n"
     ]
    }
   ],
   "source": [
    "A = np.array([[1, 2], [3, 4]])\n",
    "print(A.shape)\n",
    "\n",
    "B = np.array([[5, 6],  [7, 8]])\n",
    "print(B.shape)\n",
    "\n",
    "print(A@B)"
   ]
  },
  {
   "cell_type": "markdown",
   "id": "f39ab170",
   "metadata": {},
   "source": [
    "행렬 곱을 할 때의 유의할 점은 항상 왼쪽 행렬의 열의 갯수와 오른쪽 행렬의 행의 갯수를 일치시켜야 한다는 점이다.\n",
    "\n",
    "예를 들어, $2 \\times 2$ 행렬과 $3 \\times 2$ 행렬은 행렬 곱을 연산할 수 없지만 순서를 바꿔 $3 \\times 2$ 행렬과 $2 \\times 2$ 행렬은 행렬 곱 연산을 할 수 있다.\n",
    "\n",
    "이는 벡터와 행렬의 곱에서도 마찬가지이다."
   ]
  },
  {
   "cell_type": "markdown",
   "id": "56374b44",
   "metadata": {},
   "source": [
    "# 3.3.3 신경망에서의 행렬 곱"
   ]
  },
  {
   "cell_type": "markdown",
   "id": "cf09c59b",
   "metadata": {},
   "source": [
    "<img src=\"images/3_14.png\" height=\"300px\" width=\"700px\">"
   ]
  },
  {
   "cell_type": "markdown",
   "id": "ecfad3f1",
   "metadata": {},
   "source": [
    "위 그림과 같이 간단한 신경망의 예를 들어보자. 이 신경망은 편향과 활성화 함수를 생략하고 가중치만을 가진다."
   ]
  },
  {
   "cell_type": "markdown",
   "id": "b863c478",
   "metadata": {},
   "source": [
    "위 경우처럼, \"@\" 연산자를 사용하면 행렬의 곱을 수행해준다.\n",
    "이를 통해 3개의 값을 가지는 $y$일지언정, 한번의 계산으로 결과를 얻어낼 수 있다."
   ]
  }
 ],
 "metadata": {
  "kernelspec": {
   "display_name": "Python 3 (ipykernel)",
   "language": "python",
   "name": "python3"
  },
  "language_info": {
   "codemirror_mode": {
    "name": "ipython",
    "version": 3
   },
   "file_extension": ".py",
   "mimetype": "text/x-python",
   "name": "python",
   "nbconvert_exporter": "python",
   "pygments_lexer": "ipython3",
   "version": "3.7.1"
  }
 },
 "nbformat": 4,
 "nbformat_minor": 5
}
