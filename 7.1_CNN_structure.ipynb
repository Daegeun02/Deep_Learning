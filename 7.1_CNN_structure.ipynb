{
 "cells": [
  {
   "cell_type": "markdown",
   "id": "da2ddc0f",
   "metadata": {},
   "source": [
    "이번 장의 주제는 \"__합성곱 신경망(conventional neural network, CNN)__\"이다. 여기서 합성곱이란 공학과 물리학에서 널리 쓰이는 수학적 개념으로, 간단히 정의해보면 다음과 같다. \n",
    "\n",
    "> \"두 함수 중 하나를 반전(reverse), 이동(shift) 시켜가며 나머지 함수와의 곱을 연이어 적분한다.\"\n",
    "\n",
    "CNN은 이미지 인식과 음성 인식 등 다양한 곳에서 사용되는데, 특히 이미지 인식 분야에서 딥러닝을 활용한 기법은 거의 다 CNN을 기초로 한다. 이번 장에서는 CNN의 메커니즘을 자세히 설명하고  이를 파이썬으로 구현해보자."
   ]
  },
  {
   "cell_type": "markdown",
   "id": "4258c1fa",
   "metadata": {},
   "source": [
    "# 7.1 전체 구조"
   ]
  },
  {
   "cell_type": "markdown",
   "id": "2ed51055",
   "metadata": {},
   "source": [
    "우선 CNN의 네트워크 구조를 살펴보며 전체 틀을 이해해보자. CNN도 지금까지 본 신경망과 같이 레고 블록처럼 계층을 조합하여 만들 수 있다. 다만, \"__합성곱 계층(convolutional layer)__\"과 \"__풀링 계층(pooling layer)__\"이 새롭게 등장한다. 합성곱 계층과 풀링 계층의 상세 내용은 잠시 후 설명하기로 하고, 이번 절에서는 이 계층들을 어떻게 조합하여 CNN을 만드는지를 먼저 보자.\n",
    "\n",
    "지금까지 본 신경망은 인접하는 계층의 모든 뉴런과 결합되어 있었다. 이를 \"__완전연결(fully-connected)__\"라고 하며, 완전히 연결된 계층을 \"__Affine 계층__\"이라는 이름으로 구현했다. Affine 계층을 사용하면, 가령 층이 5개인 완전연결 신경망은 다음과 같이 구현할 수 있다.\n",
    "\n",
    "<img src=images/7_01.png height=200px width=500px>\n",
    "\n",
    "이처럼 완전연결 신경망은 Affine 계층 뒤에 활성화 함수를 갖는 ReLU 계층(혹은 Sigmoid 계층)이 이어진다. 이 그림에서는 Affine-ReLU 조합이 4개가 쌓였고 마지막 5번째 층은 Affine 계층에 이어 Softmax 계층에서 최종 결과를 확률로 출력한다."
   ]
  },
  {
   "cell_type": "markdown",
   "id": "413694a1",
   "metadata": {},
   "source": [
    "여기서 CNN의 구조는 다음과 같다.\n",
    "\n",
    "<img src=images/7_02.png height=100px width=500px>\n",
    "\n",
    "위와 같이 CNN에는 새로운 \"합성곱 계층(Conv)\"과 \"풀링 계층(Pooling)\"이 추가되었다. CNN의 계층은 \"Conv-ReLU-(Pooling)\" 흐름으로 연결된다(풀링 계층은 생략하기도 한다). 지금까지의 \"Affine-ReLU\"가 \"Conv-ReLU-(Pooling)\"으로 바뀌었다고 생각할 수 있다. 또 주목할 점은, 출력에 가까운 층에서는 지금까지의 \"Affine-ReLU\" 구성을 사용할 수 있다는 것이다. 또, 마지막 출력 계층에서는 \"Affine-Softmax\"조합을 그대로 사용한다."
   ]
  }
 ],
 "metadata": {
  "kernelspec": {
   "display_name": "Python 3 (ipykernel)",
   "language": "python",
   "name": "python3"
  },
  "language_info": {
   "codemirror_mode": {
    "name": "ipython",
    "version": 3
   },
   "file_extension": ".py",
   "mimetype": "text/x-python",
   "name": "python",
   "nbconvert_exporter": "python",
   "pygments_lexer": "ipython3",
   "version": "3.7.1"
  }
 },
 "nbformat": 4,
 "nbformat_minor": 5
}
