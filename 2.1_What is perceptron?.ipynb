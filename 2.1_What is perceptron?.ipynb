{
 "cells": [
  {
   "cell_type": "markdown",
   "id": "86f04639",
   "metadata": {},
   "source": [
    "# Perceptron\n",
    "### 다수의 신호를 입력으로 받아 하나의 신호를 출력하는 것\n",
    "### 신호란 전류나 강물처럼 흐름이 있는 것\n",
    "### 퍼셉트론에서는 신호는 흐른다, 안 흐른다 두가지 값을 가지고 1은 신호가 흐른다, 0은 신호가 흐르지 않는다를 의미한다. 이는 바뀔수도 있긴 하다."
   ]
  },
  {
   "cell_type": "markdown",
   "id": "7b6efbc4",
   "metadata": {},
   "source": [
    "<img src=\"images/2_01.png\" height=\"100px\" width=\"300px\"> "
   ]
  },
  {
   "cell_type": "markdown",
   "id": "64f96e1f",
   "metadata": {},
   "source": [
    "위 그림에서 x1과 x2는 각 입력되는 신호값을 의미하고, x1과 x2 모두 0 또는 1의 값을 가진다.\n",
    "w1과 w2는 가중치이며, 각 신호값의 영향력을 의미한다.\n",
    "그리고 결과값을 의미하는 y는 신호값과 동일하게 0 또는 1을 의미한다.\n",
    "결과값을 결정하기 위해서는 각 신호값에 가중치를 곱한후, 합이 어떤 특정한 값 초과를 가지면 1, 특정한 값 이하면 0을 가진다.\n",
    "식으로 정리하면,\n",
    "\n",
    "$$\n",
    "y = \n",
    "\\begin{cases}\n",
    "0 & (w_1x_1 + w_2x_2 \\le{\\theta})\\\\\n",
    "1 & (w_1x_1 + w_2x_2 >{\\theta})\n",
    "\\end{cases}\n",
    "$$\n",
    "\n",
    "이와 같다."
   ]
  }
 ],
 "metadata": {
  "kernelspec": {
   "display_name": "Python 3 (ipykernel)",
   "language": "python",
   "name": "python3"
  },
  "language_info": {
   "codemirror_mode": {
    "name": "ipython",
    "version": 3
   },
   "file_extension": ".py",
   "mimetype": "text/x-python",
   "name": "python",
   "nbconvert_exporter": "python",
   "pygments_lexer": "ipython3",
   "version": "3.7.1"
  }
 },
 "nbformat": 4,
 "nbformat_minor": 5
}
