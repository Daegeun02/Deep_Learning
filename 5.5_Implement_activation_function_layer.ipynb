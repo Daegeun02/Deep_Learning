{
 "cells": [
  {
   "cell_type": "markdown",
   "id": "65575e3e",
   "metadata": {},
   "source": [
    "드디어 계산 그래프를 신경망에 적용할 때가 왔다. 여기에서는 신경망을 구성하는 층 각각을 클래스 하나로 구현한다. 우선을 활성화 함수인 ReLU와 Sigmoid 계층을 구현하자."
   ]
  },
  {
   "cell_type": "markdown",
   "id": "15cc4a8b",
   "metadata": {},
   "source": [
    "# 5.5.1 ReLU 계층"
   ]
  },
  {
   "cell_type": "markdown",
   "id": "594f3cf3",
   "metadata": {},
   "source": [
    "활성화 함수로 사용되는 ReLU 함수의 수식은 다음과 같다.\n",
    "\n",
    "$\n",
    "y = \n",
    "\\begin{cases}\n",
    "x & (x > 0) \\\\\n",
    "0 & (x \\le 0)\n",
    "\\end{cases}\n",
    "\\qquad$ [식 5.7]\n",
    "\n",
    "[식 5.7]에서 x에 대한 y의 미분은 [식 5.8]처럼 구한다.\n",
    "\n",
    "$\n",
    "{\\partial y \\over \\partial x} = \n",
    "\\begin{cases}\n",
    "1 & (x > 0) \\\\\n",
    "0 & (x \\le 0)\n",
    "\\end{cases}\n",
    "\\qquad$ [식 5.8]\n",
    "\n",
    "[식 5.8]에서와 같이 순전파 때의 입력인 x가 0보다 크면 역전파는 상류의 값을 그대로 하류로 흘린다. 반면, 순전파 때의 입력인 x가 0이하면 역전파 때는 하류로 신호를 보내지 않는다.(0을 보낸다.) 계산 그래프로는 다음과 같이 그릴 수 있다.\n",
    "\n",
    "<img src=images/5_18.png height=100px width=500px>\n",
    "\n",
    "이제 이 ReLU 계층을 구현해보자. 신경망 계층의 forward()와 backward() 함수는 넘파이 배열을 인수로 받는다고 가정하자."
   ]
  },
  {
   "cell_type": "code",
   "execution_count": 1,
   "id": "d436d2f2",
   "metadata": {},
   "outputs": [],
   "source": [
    "class ReLULayer:\n",
    "    def __init__(self):\n",
    "        pass\n",
    "    \n",
    "    def forward(self, x):\n",
    "        self.x = x\n",
    "        \n",
    "        out = (self.x > 0) * 1\n",
    "            \n",
    "        return out\n",
    "    \n",
    "    def backward(self, dout):\n",
    "        \n",
    "        dx = (self.x > 0) * dout\n",
    "        \n",
    "        return dx"
   ]
  },
  {
   "cell_type": "markdown",
   "id": "ec1ca0d3",
   "metadata": {},
   "source": [
    "# 5.5.2 Sigmoid 계층"
   ]
  },
  {
   "cell_type": "markdown",
   "id": "56fade09",
   "metadata": {},
   "source": [
    "다음은 시그모이드 함수의 차례이다. 시그모이드 함수는 다음 식을 의미하는 함수이다.\n",
    "\n",
    "$\n",
    "y = \n",
    "\\frac{1}{1+e^{-x}}\n",
    "\\qquad$ [식 5.9]\n",
    "\n",
    "이를 계산 그래프로 그려보면 다음과 같다.\n",
    "\n",
    "<img src=images/5_19.png height=100px width=500px>\n",
    "\n",
    "위 그림에는 \"x\"와 \"+\" 노드 이외에 \"exp\"와 \"/\"노드가 새롭게 등장했다. \"exp\"노드는 $y = e^{x}$를 수행하고, \"/\"노드는 $y = {1 \\over x}$를 수행한다.<br>\n",
    "그림과 같이 [식 5.9]의 계산은 국소적 계산의 전파로 이루어진다. 이제 그림의 역전파를 알아보자. 여기에서는 역전파의 흐름을 오른쪽에서 왼쪽으로 한 단계씩 짚어보자."
   ]
  },
  {
   "cell_type": "markdown",
   "id": "b9969863",
   "metadata": {},
   "source": [
    "#### 1단계\n",
    "\n",
    "\"/\"노드, 즉 $y = {1 \\over x}$을 미분하면 다음의 식이 된다.\n",
    "\n",
    "$\n",
    "\\begin{matrix}\n",
    "{\\partial y \\over \\partial x}\n",
    "&=& -{1 \\over x^2} \\\\\n",
    "&=& -y^2\n",
    "\\end{matrix}\n",
    "\\qquad$ [식 5.10]\n",
    "\n",
    "[식 5.10]에 따르면 역전파 때는 상류에서 흘러온 값에 $-y^2$을 곱해서 하류로 전달한다. 계산 그래프에서는 다음과 같다.\n",
    "\n",
    "<img src=images/5_20_1.png height=100px width=500px>"
   ]
  },
  {
   "cell_type": "markdown",
   "id": "a8c309be",
   "metadata": {},
   "source": [
    "#### 2단계\n",
    "\"+\"노드는 상류의 값을 여과 없이 하류로 내보내는 것이 전부이다. 계산 그래프로는 다음과 같다.\n",
    "\n",
    "<img src=images/5_20_2.png height=100px width=500px>"
   ]
  },
  {
   "cell_type": "markdown",
   "id": "08cdcbac",
   "metadata": {},
   "source": [
    "#### 3단계\n",
    "\"exp\"노드는  $y = e^x$를 수행하며, 그 미분은 다음과 같다.\n",
    "\n",
    "$\n",
    "{\\partial y \\over \\partial x} = \n",
    "e^x\n",
    "\\qquad$ [식 5.11]\n",
    "\n",
    "계산 그래프에서는 상류의 값에 순전파 때의 출력을 곱해 하류로 전파한다.\n",
    "\n",
    "<img src=images/5_20_3.png height=100px width=500px>"
   ]
  },
  {
   "cell_type": "markdown",
   "id": "98a78a93",
   "metadata": {},
   "source": [
    "#### 4단계\n",
    "\"x\"노드는 순전파 때의 값을 서로 바꿔 곱한다. 이 예에서는 -1을 곱한다.\n",
    "\n",
    "<img src=images/5_20_0.png height=100px width=500px>"
   ]
  },
  {
   "cell_type": "markdown",
   "id": "a7c7995c",
   "metadata": {},
   "source": [
    "이상으로 Sigmoid 계층의 역전파를 계산 그래프로 완성하였다. 역전파의 최종출력인 ${\\partial L \\over \\partial y}y^2e^{-x}$가 하류 노드로 전파된다. 여기에서 ${\\partial L \\over \\partial y}y^2e^{-x}$를 순전파의 입력인 x와 출력 y만으로 계산할 수 있다. 그래서 위 계산 그래프의 중간 과정을 모두 묶어 다음과 같이 단순한 \"sigmoid\" 노드 하나로 대체할 수 있다.\n",
    "\n",
    "<img src=images/5_21.png height=100px width=500px>"
   ]
  },
  {
   "cell_type": "markdown",
   "id": "eb14df88",
   "metadata": {},
   "source": [
    "위의 서로 다른 두 그림의 결과는 똑같다. 그러나 간소화 버전은 역전파 과정의 중간 계산들을 생략할 수 있어 더 효율적인 계산이라 말할 수 있다. 또, 노드를 그룹화하여 Sigmoid 계층의 세세한 내용을 노출하지 않고 입력과 출력에만 집중할 수 있다는 것도 중요한 포인트이다.\n",
    "또한, ${\\partial L \\over \\partial y}y^2e^{-x}$는 다음처럼 정리해서 쓸 수 있다.\n",
    "\n",
    "$\n",
    "\\begin{matrix}\n",
    "{\\partial L \\over \\partial y}y^2e^{-x}\n",
    "&=& {\\partial L \\over \\partial y}{1 \\over (1+e^{-x})^2}e^{-x} \\\\\n",
    "&=& {\\partial L \\over \\partial y}{1 \\over 1+e^{-x}}{e^{-x} \\over 1+e^{-x}} \\\\\n",
    "&=& {\\partial L \\over \\partial y}y(1-y)\n",
    "\\end{matrix}\n",
    "\\qquad$ [식 5.12]\n",
    "\n",
    "이처럼 Sigmoid 계층의 역전파는 순전파의 출력 y만으로 계산할 수 있다.\n",
    "\n",
    "<img src=images/5_22.png height=100px width=500px>\n",
    "\n",
    "그럼 이 Sigmoid 계층을 파이썬으로 구현해보자"
   ]
  },
  {
   "cell_type": "code",
   "execution_count": 4,
   "id": "dbf3f5c9",
   "metadata": {},
   "outputs": [],
   "source": [
    "class SigmoidLayer:\n",
    "    def __init__(self):\n",
    "        self.out = None\n",
    "    \n",
    "    def forward(self, x):\n",
    "        \n",
    "        out = 1 / (1 + np.exp(-x))\n",
    "        \n",
    "        self.out = out\n",
    "        \n",
    "        return out\n",
    "    \n",
    "    def backward(self, dout):\n",
    "        \n",
    "        dx = dout * self.out * (1.0 - self.out)\n",
    "        \n",
    "        return dx"
   ]
  }
 ],
 "metadata": {
  "kernelspec": {
   "display_name": "Python 3 (ipykernel)",
   "language": "python",
   "name": "python3"
  },
  "language_info": {
   "codemirror_mode": {
    "name": "ipython",
    "version": 3
   },
   "file_extension": ".py",
   "mimetype": "text/x-python",
   "name": "python",
   "nbconvert_exporter": "python",
   "pygments_lexer": "ipython3",
   "version": "3.7.1"
  }
 },
 "nbformat": 4,
 "nbformat_minor": 5
}
