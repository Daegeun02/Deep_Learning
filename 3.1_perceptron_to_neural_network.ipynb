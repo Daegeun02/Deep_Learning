{
 "cells": [
  {
   "cell_type": "markdown",
   "id": "26432e50",
   "metadata": {},
   "source": [
    "# 3.1.1 신경망의 예\n",
    "\n",
    "신경망을 그림으로 나타내면 다음과 같다."
   ]
  },
  {
   "cell_type": "markdown",
   "id": "a39e49d5",
   "metadata": {},
   "source": [
    "<img src=\"images/3_01.png\" height=\"100px\" width=\"300px\">"
   ]
  },
  {
   "cell_type": "markdown",
   "id": "7ae69642",
   "metadata": {},
   "source": [
    "왼쪽에 빨간 원들이 \"입력층\", 가운데 파란 원들이 \"은닉층\", 오른쪽 초록 원들이 \"출력층\"이다.\n",
    "\n",
    "은닉층은 사람의 눈에 보이지 않는 층이다.\n",
    "각 층을 입력층-0층, 은닉층-1층, 출력층-2층 이라고 생각하고 앞으로의 코드를 작업하자."
   ]
  },
  {
   "cell_type": "markdown",
   "id": "db4dd4e0",
   "metadata": {},
   "source": [
    "뉴런이 연결되는 방식은 퍼셉트론과 다르지 않다."
   ]
  },
  {
   "cell_type": "markdown",
   "id": "14ef23a1",
   "metadata": {},
   "source": [
    "# 3.1.2 퍼셉트론 복습"
   ]
  },
  {
   "cell_type": "markdown",
   "id": "0b1b5357",
   "metadata": {},
   "source": [
    "퍼셉트론의 구조는 다음과 같다.\n",
    "<img src=\"images/2_01.png\" height=\"100px\" width=\"300px\">\n",
    "\n",
    "그리고 이를 수식으로 나타내면,\n",
    "\n",
    "$\n",
    "y = \n",
    "\\begin{cases}\n",
    "0 & (b + w_1x_1 + w_2x_2 \\le 0) \\\\\n",
    "1 & (b + w_1x_1 + w_2x_2 > 0)\n",
    "\\end{cases}\n",
    "\\qquad$ [식 3.1]\n",
    "\n",
    "이다.\n",
    "\n",
    "여기서 편향을 나타내는 매개변수인 b는 얼마나 쉽게 신경망이 활성화가 되는 지를 나타내고, $w_1$ 과 $w_2$는 각 입력값이 가지는 중요도를 나타낸다.\n",
    "\n",
    "위 그림에서 편형을 추가해주면,\n",
    "<img src=\"images/3_03.png\" height=\"200px\" width=\"600px\">\n",
    "이와 같다."
   ]
  },
  {
   "cell_type": "markdown",
   "id": "ed4079c3",
   "metadata": {},
   "source": [
    "편향이 적용된 경우는 가중치 $w = (b, w_1, w_2)$에 입력값 $x = (1, x_1, x_2)$를 입력하고 $y$를 출력하는 신경망이라고 생각할 수 있다."
   ]
  },
  {
   "cell_type": "markdown",
   "id": "e2296605",
   "metadata": {},
   "source": [
    "위 식을 조금 더 간결하게 정리해보면, \n",
    "\n",
    "$\n",
    "y = h(b + w_1x_1 + w_2x_2)\n",
    "\\qquad $ [식3.2]\n",
    "\n",
    "$\n",
    "h(x) = \n",
    "\\begin{cases}\n",
    "0 & (x \\le 0) \\\\\n",
    "1 & (x > 0)\n",
    "\\end{cases}\n",
    "\\qquad$ [식 3.3]\n",
    "\n",
    "라고 표현할 수 있다.\n",
    "\n",
    "결과적으로는 두 경우 모두 같은 결과를 출력한다."
   ]
  },
  {
   "cell_type": "markdown",
   "id": "ad563f96",
   "metadata": {},
   "source": [
    "# 3.1.3 활성화 함수의 등장"
   ]
  },
  {
   "cell_type": "markdown",
   "id": "8aec9e57",
   "metadata": {},
   "source": [
    "위에서 등장한 함수 $h(x)$와 같이 입력 신호의 총합을 출력 신호로 변환하는 함수를 일반적으로 활성화 함수라고 한다.\n",
    "이름에서 볼 수 있듯이 활성화 함수는 입력값들이 뉴런을 활성화 시킬 수 있는지를 정하는 함수이다."
   ]
  },
  {
   "cell_type": "markdown",
   "id": "bc0bdc03",
   "metadata": {},
   "source": [
    "그럼 [식 3.2]를 다시 적어보자.\n",
    "\n",
    "[식 3.2]는 가중치가 곱해진 입력 신호의 총합을 계산하고, 그 합을 활성화 함수에 의하여 결과를 내는 2단계로 처리된다.\n",
    "\n",
    "따라서,\n",
    "\n",
    "$\n",
    "a = b + w_1x_1 + w_2x_2\n",
    "\\qquad$ [식 3.4]\n",
    "\n",
    "$\n",
    "y = h(a)\n",
    "\\qquad$ [식 3.5]\n",
    "\n",
    "[식 3.4]는 가중치가 달린 입력 신호와 편향의 총합을 계산하고, 이를 $a$라 한다. 그리고 [식 3.5]에서는 $a$를 함수 $h()$에 넣어 $y$를 출력하는 흐름이다."
   ]
  },
  {
   "cell_type": "markdown",
   "id": "1c137e5f",
   "metadata": {},
   "source": [
    "이의 뉴런 구조를 이미지로 확인하자면, \n",
    "<img src=\"images/3_04.png\" height=\"150px\" width=\"400px\">\n",
    "이 된다."
   ]
  },
  {
   "cell_type": "markdown",
   "id": "cc6efbab",
   "metadata": {},
   "source": [
    "<img src=\"images/3_05.png\" height=\"200px\" width=\"1000px\">"
   ]
  },
  {
   "cell_type": "markdown",
   "id": "dc610564",
   "metadata": {},
   "source": [
    "위 그림처럼 신경망의 동작을 더 명확히 드러내고자 할 때는 오른쪽 그림처럼 활성화 처리 과정을 명시하기도 한다."
   ]
  }
 ],
 "metadata": {
  "kernelspec": {
   "display_name": "Python 3 (ipykernel)",
   "language": "python",
   "name": "python3"
  },
  "language_info": {
   "codemirror_mode": {
    "name": "ipython",
    "version": 3
   },
   "file_extension": ".py",
   "mimetype": "text/x-python",
   "name": "python",
   "nbconvert_exporter": "python",
   "pygments_lexer": "ipython3",
   "version": "3.7.1"
  }
 },
 "nbformat": 4,
 "nbformat_minor": 5
}
