{
 "cells": [
  {
   "cell_type": "markdown",
   "id": "aba0ec93",
   "metadata": {},
   "source": [
    "# 3.6.1 MNIST 데이터셋"
   ]
  },
  {
   "cell_type": "markdown",
   "id": "2bb2926e",
   "metadata": {},
   "source": [
    "이번 예에서는 MNIST라는 손글씨 숫자 이미지 집합을 이용할 것이다.<br>\n",
    "데이터셋은 0부터 9까지 훈련용 이미지 60000장, 테스트용 이미지 10000장으로 이루어져 있고, 각 이미지는 $28 \\times 28$의 행렬로 이루어져 있다.<br>\n",
    "아래 코드를 이용해 깃허브 저장소로 부터 이미지를 받아올 수 있다."
   ]
  },
  {
   "cell_type": "markdown",
   "id": "b9130a12",
   "metadata": {},
   "source": [
    "첫번째 이미지를 출력하면 다음과 같다."
   ]
  },
  {
   "cell_type": "code",
   "execution_count": 2,
   "id": "e41f494b",
   "metadata": {},
   "outputs": [],
   "source": [
    "import sys, os\n",
    "sys.path.append(os.pardir)\n",
    "from source.dataset.mnist import load_mnist\n",
    "\n",
    "import numpy as np\n",
    "import matplotlib.pyplot as plt\n",
    "import pandas as pd\n",
    "\n",
    "(x_train, t_train), (x_test, t_test) = load_mnist(flatten=True, normalize=False)"
   ]
  },
  {
   "cell_type": "code",
   "execution_count": 3,
   "id": "f7621b12",
   "metadata": {},
   "outputs": [
    {
     "name": "stdout",
     "output_type": "stream",
     "text": [
      "(60000, 784)\n",
      "(60000,)\n",
      "(10000, 784)\n",
      "(10000,)\n"
     ]
    }
   ],
   "source": [
    "print(x_train.shape)\n",
    "print(t_train.shape)\n",
    "print(x_test.shape)\n",
    "print(t_test.shape)"
   ]
  },
  {
   "cell_type": "code",
   "execution_count": 4,
   "id": "d70af582",
   "metadata": {},
   "outputs": [
    {
     "data": {
      "image/png": "[encoded data removed]",
      "text/plain": [
       "<Figure size 432x288 with 1 Axes>"
      ]
     },
     "metadata": {
      "needs_background": "light"
     },
     "output_type": "display_data"
    }
   ],
   "source": [
    "plt.imshow(x_train[0].reshape((28, 28)))\n",
    "plt.axis(\"off\")\n",
    "plt.show()"
   ]
  },
  {
   "cell_type": "markdown",
   "id": "901288c7",
   "metadata": {},
   "source": [
    "# 3.6.2 신경망의 추론 처리"
   ]
  },
  {
   "cell_type": "markdown",
   "id": "f1576c01",
   "metadata": {},
   "source": [
    "지금 부터 이 MNIST 데이터셋을 가지고 추론하는 신경망을 구현할 것이다. 이 신경망은 입력층 뉴런을 784개, 출력층 뉴런을 10개 가지고 있다. 한편, 은닉층은 총 두개인 3층 구조를 가지고, 첫번째 은닉층에는 50개의 뉴런을, 두번째 은닉층에는 100개의 뉴런을 가지도록 할 것 이다. 이 50과 100은 임의로 정한 숫자이다.<br>\n",
    "순서대로 작업을 처리해줄 세 함수인 get_data(), init_network(), predict()를 정의 하자."
   ]
  },
  {
   "cell_type": "code",
   "execution_count": 1,
   "id": "b4f82abc",
   "metadata": {},
   "outputs": [],
   "source": [
    "from functions import Function as F"
   ]
  },
  {
   "cell_type": "code",
   "execution_count": 5,
   "id": "7f0b7f32",
   "metadata": {},
   "outputs": [],
   "source": [
    "import pickle\n",
    "\n",
    "def get_data():\n",
    "    (train_image, train_label), (test_image, test_label) \\\n",
    "    = load_mnist(normalize=True, flatten=True, one_hot_label=False)\n",
    "    \n",
    "    return test_image, test_label\n",
    "\n",
    "def init_network():\n",
    "    with open(\"source/ch03/sample_weight.pkl\", \"rb\") as f:\n",
    "        network = pickle.load(f)\n",
    "    \n",
    "    return network\n",
    "\n",
    "def predict(network, x):\n",
    "    W1, W2, W3 = network[\"W1\"], network[\"W2\"], network[\"W3\"]\n",
    "    b1, b2, b3 = network[\"b1\"], network[\"b2\"], network[\"b3\"]\n",
    "    \n",
    "    a1 = x@W1 + b1\n",
    "    z1 = F.sigmoid(a1)\n",
    "    a2 = z1@W2 + b2\n",
    "    z2 = F.sigmoid(a2)\n",
    "    a3 = z2@W3 + b3\n",
    "    y = F.softmax(a3)\n",
    "    \n",
    "    return y"
   ]
  },
  {
   "cell_type": "code",
   "execution_count": 6,
   "id": "9c9f295c",
   "metadata": {},
   "outputs": [
    {
     "name": "stdout",
     "output_type": "stream",
     "text": [
      "Accuracy: 0.9352\n"
     ]
    }
   ],
   "source": [
    "x, t = get_data()\n",
    "network = init_network()\n",
    "\n",
    "accuracy_cnt = 0\n",
    "\n",
    "for i in range(len(x)):\n",
    "    y = predict(network, x[i])\n",
    "    p = np.argmax(y)\n",
    "    if p == t[i]:\n",
    "        accuracy_cnt += 1\n",
    "        \n",
    "print(f\"Accuracy: {float(accuracy_cnt)/len(x)}\")"
   ]
  },
  {
   "cell_type": "markdown",
   "id": "4c212298",
   "metadata": {},
   "source": [
    "우선 \"get_data\" 함수에서 load_mnist를 통해 받은 정보들을 각각 훈련 세트와 테스트 세트로 나누고, 그 중 테스트 세트만을 출력한다. 그리고 \"init_network\" 함수를 통해 사전에 계산된 가중치들을 통해 가중치 딕셔너리 \"network\"를 출력하고, 마지막으로 \"predict\"를 통해 신경망을 통과한 후 입력값이 0~9의 숫자들일 확률을 array의 형태로 출력한다. 이렇게 출력된 확률을 통해 가장 그럴싸한 숫자를 결정하고 이를 실제 label과 비교하여 정확도를 계산한다. 이 과정을 x에 담긴 모든 데이터에 대하여 시행한다."
   ]
  },
  {
   "cell_type": "markdown",
   "id": "97ea63f7",
   "metadata": {},
   "source": [
    "그리고 \"get_data\" 함수 내부에 \"load_mnist\" 함수의 인자들중 \"normalize\"의 값이 True로 설정되어 있는데, 이는 0 ~ 255의 값을 가지는 데이터를 0.0 ~ 1.0 사이의 값을 가지도록 \"정규화(normalize)\" 시켜주는 과정이다. 간단하게 각 값들을 255로 나누면 된다. 이 과정은 \"전처리(pre-processing)\"이라고 한다."
   ]
  },
  {
   "cell_type": "markdown",
   "id": "d9bbe5c3",
   "metadata": {},
   "source": [
    "# 3.6.3 배치 처리"
   ]
  },
  {
   "cell_type": "code",
   "execution_count": 7,
   "id": "aa47c398",
   "metadata": {},
   "outputs": [
    {
     "name": "stdout",
     "output_type": "stream",
     "text": [
      "(10000, 784)\n",
      "(784, 50)\n",
      "(50, 100)\n",
      "(100, 10)\n"
     ]
    }
   ],
   "source": [
    "x, _ = get_data()\n",
    "network = init_network()\n",
    "W1, W2, W3 = network[\"W1\"], network[\"W2\"], network[\"W3\"]\n",
    "\n",
    "print(x.shape)\n",
    "print(W1.shape)\n",
    "print(W2.shape)\n",
    "print(W3.shape)"
   ]
  },
  {
   "cell_type": "markdown",
   "id": "11a11d99",
   "metadata": {},
   "source": [
    "이 결과로 부터 각 뉴런들의 대응하는 배열들의 차원이 일치하는 것을 볼 수 있는데, 그림으로는 다음과 같이 된다.\n",
    "<img src=\"images/3_26.png\" height=\"150px\" width=\"500px\">\n",
    "데이터를 100장을 한번에 계산한다면 이와같다.\n",
    "<img src=\"images/3_27.png\" height=\"150px\" width=\"500px\">\n",
    "그러므로 각각의 인덱스가 일치한다면 각각이 담고있는 데이터는 같은 대상에 대한 데이터가 된다. 그리고 이렇게 하나로 묶은 입력 데이터를 \"배치(batch)\"라고 한다.<br>\n",
    "배치의 이점은 데이터의 연산을 더 빠르게 진행할 수 있게 해준다.\n",
    "이 점을 이용해 위의 계산을 더 빠르게 수행해보자."
   ]
  },
  {
   "cell_type": "code",
   "execution_count": 11,
   "id": "72583cc5",
   "metadata": {},
   "outputs": [
    {
     "name": "stdout",
     "output_type": "stream",
     "text": [
      "Accuracy: 0.9352\n"
     ]
    }
   ],
   "source": [
    "x, t = get_data()\n",
    "network = init_network()\n",
    "\n",
    "batch_size = 100\n",
    "accuracy_cnt = 0\n",
    "\n",
    "for i in range(0, len(x), batch_size):\n",
    "    x_batch = x[i:i+batch_size]\n",
    "    y_batch = predict(network, x_batch)\n",
    "    p = np.argmax(y_batch, axis=1)\n",
    "    accuracy_cnt += np.sum(p == t[i:i+batch_size])\n",
    "        \n",
    "print(f\"Accuracy: {float(accuracy_cnt)/len(x)}\")"
   ]
  },
  {
   "cell_type": "code",
   "execution_count": 12,
   "id": "cff5bf5f",
   "metadata": {},
   "outputs": [
    {
     "name": "stdout",
     "output_type": "stream",
     "text": [
      "[[0.1 0.8 0.1]\n",
      " [0.3 0.1 0.6]\n",
      " [0.2 0.5 0.3]\n",
      " [0.8 0.1 0.1]]\n",
      "[1 2 1 0]\n"
     ]
    }
   ],
   "source": [
    "x = np.array([[0.1, 0.8, 0.1], [0.3, 0.1, 0.6], [0.2, 0.5, 0.3], [0.8, 0.1, 0.1]])\n",
    "y = np.argmax(x, axis=1)\n",
    "print(x)\n",
    "print(y)"
   ]
  }
 ],
 "metadata": {
  "kernelspec": {
   "display_name": "Python 3 (ipykernel)",
   "language": "python",
   "name": "python3"
  },
  "language_info": {
   "codemirror_mode": {
    "name": "ipython",
    "version": 3
   },
   "file_extension": ".py",
   "mimetype": "text/x-python",
   "name": "python",
   "nbconvert_exporter": "python",
   "pygments_lexer": "ipython3",
   "version": "3.7.1"
  }
 },
 "nbformat": 4,
 "nbformat_minor": 5
}
