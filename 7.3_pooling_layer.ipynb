{
 "cells": [
  {
   "cell_type": "markdown",
   "id": "62a566fc",
   "metadata": {},
   "source": [
    "풀링은 세로, 가로 방향의 공간을 줄이는 연산이다. 예를 들어 다음과 같이 $2 \\times 2$ 영역을 원소 하나로 집약하여 공간 크기를 줄인다. \n",
    "\n",
    "<img src=images/7_14.png height=100px width=500px>\n",
    "\n",
    "이는 $2 \\times 2$ \"__최대 풀링(max pooling)__\"을 스트라이드 2로 처리하는 순서이다. 최대 풀링은 최댓값을 구하는 연산으로 \"$2 \\times 2$\"는 대상 영역의 크기를 뜻한다. 즉 $2 \\times 2$ 최대 풀링은 그림과 같이 $2 \\times 2$ 크기의 영역에서 가장 큰 원소 하나를 꺼낸다. 또, 스트라이드는 이 예에서는 2로 설정했으므로 $2 \\times 2$ 윈도우가 원소 2칸 간격으로 이동한다. 참고로, 풀링의 윈도우 크기와 스트라이드는 같은 값으로 설정하는 것이 보통이다. 예를 들어 윈도우가 $3 \\times 3$이면 스트라이드는 3으로 설정한다.\n",
    "\n",
    "풀링은 최대 풀링 외에도 \"__평균 풀링(average pooling)__\"등이 있다. 최대 풀링은 대상 영역에서 최댓값을 취하는 연산인 반면, 평균 풀링은 대상 영역의 평균을 계산한다. 이미지 인식 분야에서는 주로 최대 풀링을 사용한다."
   ]
  },
  {
   "cell_type": "markdown",
   "id": "501051b8",
   "metadata": {},
   "source": [
    "# 7.3.1 풀링 계층의 특징"
   ]
  },
  {
   "cell_type": "markdown",
   "id": "6827c880",
   "metadata": {},
   "source": [
    "#### 1. 학습해야 할 매개변수가 없다.\n",
    "풀링 계층은 합성곱 계층과 달리 학습해야 할 매개변수가 없다. 풀링은 대상 영역에서 최댓값이나 평균을 취하는 명확한 처리이므로 특별히 학습할 것이 없다.\n",
    "\n",
    "#### 2. 채널 수가 변하지 않는다.\n",
    "풀링 연산은 입력 데이터의 채널 수 그대로 출력 데이터로 내보낸다. 다음과 같이 채널마다 독립적으로 계산하기 때문이다.\n",
    "<img src=images/7_15.png height=100px width=500px>\n",
    "\n",
    "#### 3. 입력의 변화에 영향을 적게 받는다(강건하다)\n",
    "입력 데이터가 조금 변해도 풀링의 결과는 잘 변하지 않는다. 예를 들어 다음 그림은 입력 데이터의 차이(데이터가 오른쪽으로 1칸씩 이동)를 풀링이 흡수해 사라지게 하는 모습을 보여준다.\n",
    "<img src=images/7_16.png height=100px width=500px>"
   ]
  }
 ],
 "metadata": {
  "kernelspec": {
   "display_name": "Python 3 (ipykernel)",
   "language": "python",
   "name": "python3"
  },
  "language_info": {
   "codemirror_mode": {
    "name": "ipython",
    "version": 3
   },
   "file_extension": ".py",
   "mimetype": "text/x-python",
   "name": "python",
   "nbconvert_exporter": "python",
   "pygments_lexer": "ipython3",
   "version": "3.7.1"
  }
 },
 "nbformat": 4,
 "nbformat_minor": 5
}
