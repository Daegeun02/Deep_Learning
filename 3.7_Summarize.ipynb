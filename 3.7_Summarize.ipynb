{
 "cells": [
  {
   "cell_type": "markdown",
   "id": "7c120a82",
   "metadata": {},
   "source": [
    "이번 장에서는 신경망에 대해서 살펴보았다.<br>\n",
    "이번 장에서 설명한 신경망은 입력받은 신호에 정해진 처리를 한 후 출력한다는 점에서 퍼셉트론과 다르지 않은데, 퍼셉트론과의 차이점은 바로 활성화 함수에 있었다. 퍼셉트론에서는 갑작스럽게 변화하는 계단 함수를 사용한 반면, 신경망에서는 매끄럽게 변화하는 시그모이드 함수를 사용하였다. 이 차이가 신경망 학습에 중요한데, 이에 대해서는 다음 장에 설명되어있다."
   ]
  }
 ],
 "metadata": {
  "kernelspec": {
   "display_name": "Python 3 (ipykernel)",
   "language": "python",
   "name": "python3"
  },
  "language_info": {
   "codemirror_mode": {
    "name": "ipython",
    "version": 3
   },
   "file_extension": ".py",
   "mimetype": "text/x-python",
   "name": "python",
   "nbconvert_exporter": "python",
   "pygments_lexer": "ipython3",
   "version": "3.7.1"
  }
 },
 "nbformat": 4,
 "nbformat_minor": 5
}
