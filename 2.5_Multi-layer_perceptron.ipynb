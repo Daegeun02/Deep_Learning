{
 "cells": [
  {
   "cell_type": "markdown",
   "id": "44409b16",
   "metadata": {},
   "source": [
    "### 퍼셉트론의 아름다움은 \"층을 쌓아\" 다층 퍼셉트론(Multi-Layer perceptron)을 만들 수 있다는 것이다. \n",
    "### 이를 활용해서 XOR 게이트 문제를 다룰 수 있다."
   ]
  },
  {
   "cell_type": "markdown",
   "id": "9112774e",
   "metadata": {},
   "source": [
    "# 2.5.1 기존 게이트 조합하기"
   ]
  },
  {
   "cell_type": "markdown",
   "id": "5bf53add",
   "metadata": {},
   "source": [
    "AND, NAND, OR 게이트를 조합하여 원하는 결과를 도출해보자.\n",
    "마지막에 AND 게이트를 사용한다고 가정하자.\n",
    "중간에 거쳐가는 NAND, OR의 출력값, AND의 입력값을 $s_1, s_2$라고 할 때, 진리표는 \n",
    "\n",
    "|$x_1$|$x_2$|$s_1$|$s_2$|$y$|\n",
    "|---|---|---|---|---|\n",
    "|0|0|1|0|0|\n",
    "|1|0|1|1|1|\n",
    "|0|1|1|1|1|\n",
    "|1|1|0|1|0|\n",
    "\n",
    "이와 같이 XOR 게이트의 출력값을 얻을 수 있다."
   ]
  },
  {
   "cell_type": "markdown",
   "id": "bf6a780d",
   "metadata": {},
   "source": [
    "### 이를 활용해 XOR 게이트를 구현해보자."
   ]
  },
  {
   "cell_type": "code",
   "execution_count": 1,
   "id": "0402a6cb",
   "metadata": {},
   "outputs": [],
   "source": [
    "from functions import Function as F"
   ]
  },
  {
   "cell_type": "code",
   "execution_count": 2,
   "id": "01bb0ffe",
   "metadata": {},
   "outputs": [],
   "source": [
    "def XOR(x1, x2):\n",
    "    s1 = F.NAND(x1, x2)\n",
    "    s2 = F.OR(x1, x2)\n",
    "    y = F.AND(s1, s2)\n",
    "    \n",
    "    return y"
   ]
  },
  {
   "cell_type": "code",
   "execution_count": 3,
   "id": "9a0dfecc",
   "metadata": {},
   "outputs": [
    {
     "name": "stdout",
     "output_type": "stream",
     "text": [
      "XOR(0, 0): 0\n",
      "XOR(1, 0): 1\n",
      "XOR(0, 1): 1\n",
      "XOR(1, 1): 0\n"
     ]
    }
   ],
   "source": [
    "print(f\"XOR(0, 0): {XOR(0, 0)}\") ## 0을 출력\n",
    "print(f\"XOR(1, 0): {XOR(1, 0)}\") ## 1을 출력\n",
    "print(f\"XOR(0, 1): {XOR(0, 1)}\") ## 1을 출력\n",
    "print(f\"XOR(1, 1): {XOR(1, 1)}\") ## 0을 출력"
   ]
  },
  {
   "cell_type": "markdown",
   "id": "7267c38b",
   "metadata": {},
   "source": [
    "# 이미지 추가하세요"
   ]
  },
  {
   "cell_type": "markdown",
   "id": "c3ebe27d",
   "metadata": {},
   "source": [
    "이 XOR 게이트의 동작을 서술하면,\n",
    "1. 0층의 두 뉴런이 입력 신호를 받아 1층의 뉴런으로 신호를 보낸다.\n",
    "2. 1층의 뉴런이 2층의 뉴런으로 신호를 보내고, 2층의 뉴런은 y를 출력한다."
   ]
  },
  {
   "cell_type": "markdown",
   "id": "bd4a890a",
   "metadata": {},
   "source": [
    "이처럼 단층 퍼셉트론인 AND, NAND, OR을 활용한 다층 퍼셉트론을 이용해 더 다양한 것을 표현할 수 있다."
   ]
  }
 ],
 "metadata": {
  "kernelspec": {
   "display_name": "Python 3 (ipykernel)",
   "language": "python",
   "name": "python3"
  },
  "language_info": {
   "codemirror_mode": {
    "name": "ipython",
    "version": 3
   },
   "file_extension": ".py",
   "mimetype": "text/x-python",
   "name": "python",
   "nbconvert_exporter": "python",
   "pygments_lexer": "ipython3",
   "version": "3.7.1"
  }
 },
 "nbformat": 4,
 "nbformat_minor": 5
}
