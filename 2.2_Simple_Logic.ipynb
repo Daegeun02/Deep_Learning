{
 "cells": [
  {
   "cell_type": "markdown",
   "id": "2e72d5d9",
   "metadata": {},
   "source": [
    "# 2.2.1 AND 게이트\n",
    "밑의 표는 AND 게이트의 진리표이다."
   ]
  },
  {
   "cell_type": "markdown",
   "id": "739ae043",
   "metadata": {},
   "source": [
    "|${x_1}$|${x_2}$|${y}$|\n",
    "|---|---|---|\n",
    "|0|0|0|\n",
    "|1|0|0|\n",
    "|0|1|0|\n",
    "|1|1|1|"
   ]
  },
  {
   "cell_type": "markdown",
   "id": "27be56bf",
   "metadata": {},
   "source": [
    "위의 진리표를 만족하도록 퍼셉트론을 구성하려면, 가중치와 임계값을\n",
    "$$\n",
    "[w_1, w_2, \\theta] = [0.5, 0.5, 0.7], [1.0, 1.0, 1.0]\n",
    "$$\n",
    "다음과 같이 조합할 수 있고, 이 조합은 무수히 많다."
   ]
  },
  {
   "cell_type": "markdown",
   "id": "34860849",
   "metadata": {},
   "source": [
    "# 2.2.2 NAND 게이트와 OR 게이트"
   ]
  },
  {
   "cell_type": "markdown",
   "id": "0b418aba",
   "metadata": {},
   "source": [
    "NAND 게이트의 진리표\n",
    "\n",
    "|${x_1}$|${x_2}$|${y}$|\n",
    "|---|---|---|\n",
    "|0|0|1|\n",
    "|1|0|1|\n",
    "|0|1|1|\n",
    "|1|1|0|"
   ]
  },
  {
   "cell_type": "markdown",
   "id": "5e6ee8a1",
   "metadata": {},
   "source": [
    "NAND 게이트는 그 이름에 걸맞게 AND 게이트를 만족하는 가중치와 임계값에 모두 -1을 곱해주면 NAND 게이트를 만족시키는 퍼셉트론의 가중치와 임계값을 알아낼 수 있다."
   ]
  },
  {
   "cell_type": "markdown",
   "id": "2ae30aae",
   "metadata": {},
   "source": [
    "OR 게이트의 진리표\n",
    "\n",
    "|${x_1}$|${x_2}$|${y}$|\n",
    "|---|---|---|\n",
    "|0|0|0|\n",
    "|1|0|1|\n",
    "|0|1|1|\n",
    "|1|1|1|"
   ]
  },
  {
   "cell_type": "markdown",
   "id": "f49d63f4",
   "metadata": {},
   "source": [
    "OR 게이트는 가중치 중 작은 값보다 임계값이 작고, 0보다 크면, OR 게이트를 만족시키는 퍼셉트론의 가중치와 임계값이 된다. "
   ]
  }
 ],
 "metadata": {
  "kernelspec": {
   "display_name": "Python 3 (ipykernel)",
   "language": "python",
   "name": "python3"
  },
  "language_info": {
   "codemirror_mode": {
    "name": "ipython",
    "version": 3
   },
   "file_extension": ".py",
   "mimetype": "text/x-python",
   "name": "python",
   "nbconvert_exporter": "python",
   "pygments_lexer": "ipython3",
   "version": "3.7.1"
  }
 },
 "nbformat": 4,
 "nbformat_minor": 5
}
