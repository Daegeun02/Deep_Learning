{
 "cells": [
  {
   "cell_type": "markdown",
   "id": "a3de6c72",
   "metadata": {},
   "source": [
    "# 2.4.1 XOR 게이트"
   ]
  },
  {
   "cell_type": "markdown",
   "id": "a3816647",
   "metadata": {},
   "source": [
    "### XOR 게이트는 베타적 논리합이라는 논리 회로이다. $x_1$과 $x_2$가 서로 다를 때 1을 출력한다."
   ]
  },
  {
   "cell_type": "markdown",
   "id": "99790771",
   "metadata": {},
   "source": [
    "|$x_1$|$x_2$|$y$|\n",
    "|---|---|---|\n",
    "|0|0|0|\n",
    "|1|0|1|\n",
    "|0|1|1|\n",
    "|1|1|0|"
   ]
  },
  {
   "cell_type": "markdown",
   "id": "c4dbe5ff",
   "metadata": {},
   "source": [
    "XOR 게이트는 현재까지 사용한 퍼셉트론으로는 구현할 수 없다.\n",
    "AND 게이트나 OR 게이트와는 작동 방식이 다르기에 그런데, OR 게이트의 동작을 시각화 해보면 알 수 있다. 가중치를 $(b, w_1, w_2) = (-0.5, 1.0, 1.0)$ 라 하고 퍼셉트론의 식을 세우면,\n",
    "\n",
    "$\n",
    "y = \n",
    "\\begin{cases}\n",
    "0 & (-0.5 + x_1 + x_2 \\le 0) \\\\\n",
    "1 & (-0.5 + x_1 + x_2 > 0)\n",
    "\\end{cases}\n",
    "$\n",
    "\n",
    "가 된다."
   ]
  },
  {
   "cell_type": "code",
   "execution_count": 24,
   "id": "04c0759b",
   "metadata": {},
   "outputs": [
    {
     "name": "stdout",
     "output_type": "stream",
     "text": [
      "이를 시각화 하여 나타내면,\n"
     ]
    },
    {
     "data": {
      "image/png": "[encoded data removed]",
      "text/plain": [
       "<Figure size 432x288 with 1 Axes>"
      ]
     },
     "metadata": {
      "needs_background": "light"
     },
     "output_type": "display_data"
    },
    {
     "name": "stdout",
     "output_type": "stream",
     "text": [
      "이와 같고 여기서 그래프의 오른쪽에 해당하는 영역이 0을 출력하는 영역이고,\n",
      "왼쪽에 해당하는 영역은 1을 출력하는 영역이다.\n"
     ]
    }
   ],
   "source": [
    "print(\"이를 시각화 하여 나타내면,\")\n",
    "import matplotlib.pyplot as plt\n",
    "import numpy as np\n",
    "x_1 = np.arange(-2, 3)\n",
    "x_2 = -x_1 + 0.5\n",
    "plt.plot(x_1, x_2)\n",
    "plt.scatter(0, 0, marker=\"o\", label=\"0\")\n",
    "plt.scatter(1, 0, marker=\"^\", label=\"1\")\n",
    "plt.scatter(0, 1, marker=\"^\", label=\"1\")\n",
    "plt.scatter(1, 1, marker=\"^\", label=\"1\")\n",
    "plt.xlabel(r\"$x_1$\")\n",
    "plt.ylabel(r\"$x_2$\")\n",
    "plt.legend()\n",
    "plt.grid()\n",
    "plt.show()\n",
    "print(\"\"\"이와 같고 여기서 그래프의 오른쪽에 해당하는 영역이 0을 출력하는 영역이고,\n",
    "왼쪽에 해당하는 영역은 1을 출력하는 영역이다.\"\"\")"
   ]
  },
  {
   "cell_type": "code",
   "execution_count": 25,
   "id": "134cfabe",
   "metadata": {},
   "outputs": [
    {
     "name": "stdout",
     "output_type": "stream",
     "text": [
      "그러나 XOR의 경우에는,\n"
     ]
    },
    {
     "data": {
      "image/png": "[encoded data removed]",
      "text/plain": [
       "<Figure size 432x288 with 1 Axes>"
      ]
     },
     "metadata": {
      "needs_background": "light"
     },
     "output_type": "display_data"
    },
    {
     "name": "stdout",
     "output_type": "stream",
     "text": [
      "이와 같이 0과 1을 하나의 직선으로 분리할 방법이 없는 듯이 보인다.\n",
      "실제로도 이를 분리하는 것은 불가능하다.\n"
     ]
    }
   ],
   "source": [
    "print(\"그러나 XOR의 경우에는,\")\n",
    "plt.scatter(0, 0, marker=\"o\", label=\"0\")\n",
    "plt.scatter(1, 0, marker=\"^\", label=\"1\")\n",
    "plt.scatter(0, 1, marker=\"^\", label=\"1\")\n",
    "plt.scatter(1, 1, marker=\"o\", label=\"0\")\n",
    "plt.xlabel(r\"$x_1$\")\n",
    "plt.ylabel(r\"$x_2$\")\n",
    "plt.xlim(-2, 2)\n",
    "plt.ylim(-2, 2)\n",
    "plt.legend()\n",
    "plt.grid()\n",
    "plt.show()\n",
    "print(\"\"\"이와 같이 0과 1을 하나의 직선으로 분리할 방법이 없는 듯이 보인다.\n",
    "실제로도 이를 분리하는 것은 불가능하다.\"\"\")"
   ]
  },
  {
   "cell_type": "markdown",
   "id": "7bf65a17",
   "metadata": {},
   "source": [
    "# 2.4.2 linear and nulinear"
   ]
  },
  {
   "cell_type": "markdown",
   "id": "06428abe",
   "metadata": {},
   "source": [
    "위의 경우는 분리하는 방법을 직선이 아닌 곡선을 택한다면 충분히 분리할 수 있다.\n",
    "첫번째 그림처럼 직선으로 분리하는 것을 선형 영역이라고 하고 두번째 그림처럼 곡선을 이용해 분리하는 것을 비선형 영역이라고 한다.\n",
    "퍼셉트론은 이런 선형에서만 분리를 할 수 있다는 단점이 존재한다."
   ]
  }
 ],
 "metadata": {
  "kernelspec": {
   "display_name": "Python 3 (ipykernel)",
   "language": "python",
   "name": "python3"
  },
  "language_info": {
   "codemirror_mode": {
    "name": "ipython",
    "version": 3
   },
   "file_extension": ".py",
   "mimetype": "text/x-python",
   "name": "python",
   "nbconvert_exporter": "python",
   "pygments_lexer": "ipython3",
   "version": "3.7.1"
  }
 },
 "nbformat": 4,
 "nbformat_minor": 5
}
