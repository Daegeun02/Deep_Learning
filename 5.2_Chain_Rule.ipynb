{
 "cells": [
  {
   "cell_type": "markdown",
   "id": "04bad4b4",
   "metadata": {},
   "source": [
    "그동안 해온 계산 그래프의 순전파는 왼쪽에서 오른쪽으로 전달했다. 이 순서는 평소 하는 방식이니 자연스럽게 느껴졌을 것이다. 한편 역전파는 \"국소적인 미분\"을 순방향과는 반대인 오른쪽에서 왼쪽으로 전달한다. 또한, 이 \"국소적 미분\"을 전달하는 원리는 \"__연쇄법칙(chain rule)__\"에 의한 것이다. 이번 절에서는 연쇄법칙을 설명하고 그것이 계산 그래프 상의 역전파와 같다는 사실을 밝히겠다."
   ]
  },
  {
   "cell_type": "markdown",
   "id": "15a73009",
   "metadata": {},
   "source": [
    "# 5.2.1 계산 그래프의 역전파"
   ]
  },
  {
   "cell_type": "markdown",
   "id": "026b2756",
   "metadata": {},
   "source": [
    "계산 그래프를 사용한 역전파의 예를 하나 살펴보자. $y = f(x)$라는 계산의 역전파를 다음 이미지에 그려놓았다.\n",
    "\n",
    "<img src=images/5_06.png height=100px width=500px>\n",
    "\n",
    "이와 같이 역전파의 계산 절차는 신호 E에 노드의 국소적 미분(${\\partial y \\over \\partial x}$)를 곱한 후 다음 노드로 전달하는 것이다. 여기에서 말하는 국소적 미분은 순전파 때의 $y = f(x)$ 계산의 미분을 구한다는 것이며, 이는 x에 대한 y의 미분(${\\partial y \\over \\partial x}$)를 구한다는 뜻이다. 가령 $y = f(x) = x^2$이라면 ${\\partial y \\over \\partial x} = 2x$가 된다.<br>\n",
    "이것이 역전파의 계산 순서인데, 이러한 방식을 따르면 목표로 하는 미분 값을 효율적으로 구할 수 있다는 것이 이 전파의 핵심이다. 왜 그런 일이 가능한가는 연쇄법칙의 원리로 설명할 수 있다."
   ]
  },
  {
   "cell_type": "markdown",
   "id": "70a93e30",
   "metadata": {},
   "source": [
    "# 5.2.2 연쇄법칙이란?"
   ]
  },
  {
   "cell_type": "markdown",
   "id": "5ac69916",
   "metadata": {},
   "source": [
    "연쇄법칙을 설명하려면 우선 합성 함수 이야기부터 시작해야 한다. \"__합성 함수__\"란 여러 함수로 구성된 함수이다. 예를 들어 $z = (x+y)^2$아리는 식은 다음 처럼 2개로 구성된다.\n",
    "$\n",
    "z = t^2 \\\\\n",
    "t = x + y\n",
    "\\qquad$ [식 5.1]\n",
    "연쇄법칙은 합성 함수의 미분에 관한 성질이며, 다음과 같이 정의된다. \n",
    "###### 합성 함수의 미분은 합성 함수를 구성하는 각 함수의 미분의 곱으로 나타낼 수 있다.\n",
    "[식 5.1]을 예로 들면,\n",
    "\n",
    "$\n",
    "{\\partial z \\over \\partial x} = \n",
    "{\\partial z \\over \\partial t}{\\partial t \\over \\partial x}\n",
    "\\qquad$ [식 5.2]\n",
    "\n",
    "그럼 연쇄법칙을 사용하여 [식 5.2]의 미분 ${\\partial z \\over \\partial x}$를 구해보면, 가장 먼저 [식 5.1]의 국소적 미분을 구한다. \n",
    "\n",
    "$\n",
    "{\\partial z \\over \\partial t} = 2t \\\\\n",
    "{\\partial t \\over \\partial x} = 1\n",
    "\\qquad$ [식 5.3]\n",
    "\n",
    "이는 미분 공식에서 해석적으로 구한 결과이다. 그리고 최종적으로 구하고 싶은 ${\\partial z \\over \\partial x}$는 [식 5.3]에서 구한 두 미분을 곱해 계산한다.\n",
    "\n",
    "$\n",
    "{\\partial z \\over \\partial x} =\n",
    "{\\partial z \\over \\partial t}{\\partial t \\over \\partial x} = \n",
    "2t \\times 1 = \n",
    "2(x+y)\n",
    "\\qquad$ [식 5.4]"
   ]
  },
  {
   "cell_type": "markdown",
   "id": "a35bc3ad",
   "metadata": {},
   "source": [
    "# 5.2.3 연쇄법칙과 계산 그래프"
   ]
  },
  {
   "cell_type": "markdown",
   "id": "4adaa475",
   "metadata": {},
   "source": [
    "그럼 [식 5.4]의 연쇄법칙 계산을 계산 그래프로 나타내보자. 2제곱 계산을 \"$**2$\" 노드로 나타내면 다음과 같다.\n",
    "\n",
    "<img src=images/5_07.png height=100px width=300px>\n"
   ]
  },
  {
   "cell_type": "markdown",
   "id": "051a1aa9",
   "metadata": {},
   "source": [
    "그림과 같이 계산 그래프의 역전파는 오른쪽에서 왼쪽으로 신호를 전파한다. 역전파의 계산 절차에서는 노드로 들어온 입력 신호에 그 노드의 국소적 미분(편미분)을 곱한 후 다음 노드로 전달한다. 예를 들어 \"$**2$\" 노드에서의 역전파를 보자. 입력은 ${\\partial z \\over \\partial z}$이며, 이에 국소적 미분인 ${\\partial z \\over \\partial t}$를 곱하고 다음 노드로 넘긴다. 한가지, 위의 그림에서 역전파의 첫 신호인 ${\\partial z \\over \\partial z}$의 값은 결국 1이라서 앞의 수식에서는 언급하지 않았다.<br>\n",
    "그런데 그림에서 주목할 것은 맨 왼쪽 역전파인데, 이 계산은 연쇄법칙에 따르면 \n",
    "$\n",
    "{\\partial z \\over \\partial z}\n",
    "{\\partial z \\over \\partial t}\n",
    "{\\partial t \\over \\partial x} = \n",
    "{\\partial z \\over \\partial t}\n",
    "{\\partial t \\over \\partial x} =\n",
    "{\\partial z \\over \\partial x}$가 성립되어 \"x에 대한 z의 미분이 된다. 즉, 역전파가 하는 일은 연쇄 법칙의 원리와 같다는 것이다.<br>\n",
    "결국 [식 5.3]과 더불어 ${\\partial z \\over \\partial x}$는 $2(x+y)$임을 구할 수 있다.\n",
    "\n",
    "<img src=images/5_08.png height=100px width=500px>"
   ]
  }
 ],
 "metadata": {
  "kernelspec": {
   "display_name": "Python 3 (ipykernel)",
   "language": "python",
   "name": "python3"
  },
  "language_info": {
   "codemirror_mode": {
    "name": "ipython",
    "version": 3
   },
   "file_extension": ".py",
   "mimetype": "text/x-python",
   "name": "python",
   "nbconvert_exporter": "python",
   "pygments_lexer": "ipython3",
   "version": "3.7.1"
  }
 },
 "nbformat": 4,
 "nbformat_minor": 5
}
