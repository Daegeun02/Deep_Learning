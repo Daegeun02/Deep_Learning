{
 "cells": [
  {
   "cell_type": "markdown",
   "id": "a91d97f9",
   "metadata": {},
   "source": [
    "# 2.3.1 Simple Logic"
   ]
  },
  {
   "cell_type": "code",
   "execution_count": 1,
   "id": "70817fde",
   "metadata": {},
   "outputs": [],
   "source": [
    "def AND(x1, x2):\n",
    "    w1, w2, theta = 0.5, 0.5, 0.7\n",
    "    tmp = x1*w1 + x2*w2\n",
    "    \n",
    "    if tmp <= theta:\n",
    "        y = 0\n",
    "    else:\n",
    "        y = 1\n",
    "    \n",
    "    return y"
   ]
  },
  {
   "cell_type": "code",
   "execution_count": 3,
   "id": "eeebeb67",
   "metadata": {},
   "outputs": [
    {
     "name": "stdout",
     "output_type": "stream",
     "text": [
      "AND(0, 0): 0\n",
      "AND(1, 0): 0\n",
      "AND(0, 1): 0\n",
      "AND(1, 1): 1\n"
     ]
    }
   ],
   "source": [
    "print(f\"AND(0, 0): {AND(0, 0)}\") ## 0을 출력\n",
    "print(f\"AND(1, 0): {AND(1, 0)}\") ## 0을 출력\n",
    "print(f\"AND(0, 1): {AND(0, 1)}\") ## 0을 출력\n",
    "print(f\"AND(1, 1): {AND(1, 1)}\") ## 1을 출력"
   ]
  },
  {
   "cell_type": "markdown",
   "id": "319d15bf",
   "metadata": {},
   "source": [
    "# 2.3.2 weight and bias"
   ]
  },
  {
   "cell_type": "markdown",
   "id": "94d1bf6f",
   "metadata": {},
   "source": [
    "2.1 What is perceptron? 에서의 식을 \n",
    "\n",
    "$\n",
    "y =\n",
    "\\begin{cases}\n",
    "0 & (b + w_1x_1 + w_2x_2 \\le 0)\\\\\n",
    "1 & (b + w_1x_1 + w_2x_2 > 0)\n",
    "\\end{cases}\n",
    "$\n",
    "\n",
    "위와 같이 수정하고 적용해보자. \n",
    "\n",
    "여기서 b는 편향(bias)를, \n",
    "$w_1과 w_2$는 가중치(weight)를 의미한다."
   ]
  },
  {
   "cell_type": "markdown",
   "id": "0f91d31b",
   "metadata": {},
   "source": [
    "# 2.3.3 Implementation of weight and bias"
   ]
  },
  {
   "cell_type": "markdown",
   "id": "1fccdee1",
   "metadata": {},
   "source": [
    "### AND 게이트"
   ]
  },
  {
   "cell_type": "code",
   "execution_count": 4,
   "id": "0a137328",
   "metadata": {},
   "outputs": [],
   "source": [
    "import numpy as np\n",
    "def AND(x1, x2):\n",
    "    x = np.array([x1, x2])\n",
    "    w = np.array([0.5, 0.5])\n",
    "    b = -0.7\n",
    "    tmp = np.sum(w*x) + b\n",
    "    \n",
    "    if tmp <= 0:\n",
    "        y = 0\n",
    "    else:\n",
    "        y = 1\n",
    "    \n",
    "    return y"
   ]
  },
  {
   "cell_type": "code",
   "execution_count": 5,
   "id": "e9bf3549",
   "metadata": {},
   "outputs": [
    {
     "name": "stdout",
     "output_type": "stream",
     "text": [
      "AND(0, 0): 0\n",
      "AND(1, 0): 0\n",
      "AND(0, 1): 0\n",
      "AND(1, 1): 1\n"
     ]
    }
   ],
   "source": [
    "print(f\"AND(0, 0): {AND(0, 0)}\") ## 0을 출력\n",
    "print(f\"AND(1, 0): {AND(1, 0)}\") ## 0을 출력\n",
    "print(f\"AND(0, 1): {AND(0, 1)}\") ## 0을 출력\n",
    "print(f\"AND(1, 1): {AND(1, 1)}\") ## 1을 출력"
   ]
  },
  {
   "cell_type": "markdown",
   "id": "733044f5",
   "metadata": {},
   "source": [
    "편향(bias)는 가중치(weight)와는 다르게 뉴런을 얼마나 쉽게 활성화 시키느냐(=>출력을 1로 얼마나 쉽게 만드느냐?)를 의미한다."
   ]
  },
  {
   "cell_type": "markdown",
   "id": "1e7e41b3",
   "metadata": {},
   "source": [
    "### NAND 게이트"
   ]
  },
  {
   "cell_type": "code",
   "execution_count": 6,
   "id": "515db461",
   "metadata": {},
   "outputs": [],
   "source": [
    "def NAND(x1, x2):\n",
    "    x = np.array([x1, x2])\n",
    "    w = np.array([-0.5, -0.5]) ## AND 게이트의 가중치와 편형과 부호만 다르다.\n",
    "    b = 0.7\n",
    "    tmp = np.sum(w*x) + b\n",
    "    \n",
    "    if tmp <= 0:\n",
    "        y = 0\n",
    "    else:\n",
    "        y = 1\n",
    "    \n",
    "    return y"
   ]
  },
  {
   "cell_type": "code",
   "execution_count": 7,
   "id": "542c4a12",
   "metadata": {},
   "outputs": [
    {
     "name": "stdout",
     "output_type": "stream",
     "text": [
      "NAND(0, 0): 1\n",
      "NAND(1, 0): 1\n",
      "NAND(0, 1): 1\n",
      "NAND(1, 1): 0\n"
     ]
    }
   ],
   "source": [
    "print(f\"NAND(0, 0): {NAND(0, 0)}\") ## 1을 출력\n",
    "print(f\"NAND(1, 0): {NAND(1, 0)}\") ## 1을 출력\n",
    "print(f\"NAND(0, 1): {NAND(0, 1)}\") ## 1을 출력\n",
    "print(f\"NAND(1, 1): {NAND(1, 1)}\") ## 0을 출력"
   ]
  },
  {
   "cell_type": "markdown",
   "id": "c0781c89",
   "metadata": {},
   "source": [
    "### OR 게이트"
   ]
  },
  {
   "cell_type": "code",
   "execution_count": 11,
   "id": "32ee72b0",
   "metadata": {},
   "outputs": [],
   "source": [
    "def OR(x1, x2):\n",
    "    x = np.array([x1, x2])\n",
    "    w = np.array([1.0, 1.0])\n",
    "    b = -0.9\n",
    "    tmp = np.sum(w*x) + b\n",
    "    \n",
    "    if tmp <= 0:\n",
    "        y = 0\n",
    "    else:\n",
    "        y = 1\n",
    "        \n",
    "    return y"
   ]
  },
  {
   "cell_type": "code",
   "execution_count": 12,
   "id": "c42cb948",
   "metadata": {},
   "outputs": [
    {
     "name": "stdout",
     "output_type": "stream",
     "text": [
      "OR(0, 0): 0\n",
      "OR(1, 0): 1\n",
      "OR(0, 1): 1\n",
      "OR(1, 1): 1\n"
     ]
    }
   ],
   "source": [
    "print(f\"OR(0, 0): {OR(0, 0)}\") ## 0을 출력\n",
    "print(f\"OR(1, 0): {OR(1, 0)}\") ## 1을 출력\n",
    "print(f\"OR(0, 1): {OR(0, 1)}\") ## 1을 출력\n",
    "print(f\"OR(1, 1): {OR(1, 1)}\") ## 1을 출력"
   ]
  }
 ],
 "metadata": {
  "kernelspec": {
   "display_name": "Python 3 (ipykernel)",
   "language": "python",
   "name": "python3"
  },
  "language_info": {
   "codemirror_mode": {
    "name": "ipython",
    "version": 3
   },
   "file_extension": ".py",
   "mimetype": "text/x-python",
   "name": "python",
   "nbconvert_exporter": "python",
   "pygments_lexer": "ipython3",
   "version": "3.7.1"
  }
 },
 "nbformat": 4,
 "nbformat_minor": 5
}
