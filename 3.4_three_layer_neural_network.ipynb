{
 "cells": [
  {
   "cell_type": "markdown",
   "id": "cb9cd8a8",
   "metadata": {},
   "source": [
    "# 3.4.1 표기법 설명"
   ]
  },
  {
   "cell_type": "markdown",
   "id": "dd4a58d4",
   "metadata": {},
   "source": [
    "<img src=\"images/3_15.png\" height=\"200px\" width=\"500px\">"
   ]
  },
  {
   "cell_type": "markdown",
   "id": "4976c7f5",
   "metadata": {},
   "source": [
    "다음 그림은 3층 신경망을 보여주고 있다. 여기서 0층인 $x_1, x_2$는 입력층을, 1층과 2층은 은닉층을, 3층인 $y_1, y_2$는 출력층을 보여준다."
   ]
  },
  {
   "cell_type": "markdown",
   "id": "a5ce695e",
   "metadata": {},
   "source": [
    "앞으로 \n",
    "$w_{1 2}^{(1)}$\n",
    "이와 같은 표기를 사용할 텐데, 우선 아랫 첨자의 1은 다음 층의 첫번째 뉴런이라는 의미이고, 2는 전 층의 2번째 뉴런을 의미한다. 그리고 윗 첨자의 (1)은 1층의 가중치라는 의미를 가진다."
   ]
  },
  {
   "cell_type": "markdown",
   "id": "d0430b54",
   "metadata": {},
   "source": [
    "# 3.4.2 각 층의 신호 전달 구현하기"
   ]
  },
  {
   "cell_type": "markdown",
   "id": "a74c8dae",
   "metadata": {},
   "source": [
    "<img src=\"images/3_17.png\" height=\"200px\" width=\"500px\">"
   ]
  },
  {
   "cell_type": "markdown",
   "id": "279bb4e9",
   "metadata": {},
   "source": [
    "이 신경망에는 편향인 1을 추가하였다.<br>\n",
    "위 그림을 참고해 $a_1^{(1)}$을 수식으로 표현해보면,\n",
    "\n",
    "$\n",
    "a_1^{(1)} = w_{11}^{(1)}x_1 + w_{12}^{(1)}x_2 + b_1^{(1)}\n",
    "\\qquad$ [식 3.8]\n",
    "\n",
    "이다."
   ]
  },
  {
   "cell_type": "markdown",
   "id": "e9843f8c",
   "metadata": {},
   "source": [
    "여기서 \n",
    "\n",
    "$A^{(1)} = (a_1^{(1)}\\;a_2^{(1)}\\;a_3^{(1)})$\n",
    "\n",
    "$X = (x_1, x_2)$\n",
    "\n",
    "$B^{(1)} = (b_1^{(1)}\\;b_2^{(1)}\\;b_2^{(1)})$\n",
    "\n",
    "$W^{(1)} = \n",
    "\\begin{pmatrix}\n",
    "w_{11}^{(1)} & w_{21}^{(1)} & w_{31}^{(1)} \\\\\n",
    "w_{12}^{(1)} & w_{22}^{(1)} & w_{32}^{(1)}\n",
    "\\end{pmatrix}\n",
    "$\n",
    "\n",
    "라 하면,"
   ]
  },
  {
   "cell_type": "markdown",
   "id": "066cf852",
   "metadata": {},
   "source": [
    "[식 3.8]을 간소화 할 수 있다.<br>\n",
    "그 결과는 다음과 같다.\n",
    "\n",
    "$\n",
    "A^{(1)} = XW^{(1)} + B^{(1)}\n",
    "\\quad$ [식 3.9]\n",
    "\n",
    "이를 이용해 [식 3.9]를 구현해보자."
   ]
  },
  {
   "cell_type": "code",
   "execution_count": 3,
   "id": "f7e628c9",
   "metadata": {},
   "outputs": [
    {
     "name": "stdout",
     "output_type": "stream",
     "text": [
      "(2, 3)\n",
      "(2,)\n",
      "(3,)\n"
     ]
    }
   ],
   "source": [
    "import numpy as np\n",
    "\n",
    "X = np.array([1.0, 0.5])\n",
    "W1 = np.array([[0.1, 0.3, 0.5], [0.2, 0.4, 0.6]])\n",
    "B1 = np.array([0.1, 0.2, 0.3])\n",
    "\n",
    "print(W1.shape)\n",
    "print(X.shape)\n",
    "print(B1.shape)\n",
    "\n",
    "A1 = X@W1 + B1"
   ]
  },
  {
   "cell_type": "code",
   "execution_count": 1,
   "id": "bb85c8ee",
   "metadata": {},
   "outputs": [],
   "source": [
    "from functions import Function as F"
   ]
  },
  {
   "cell_type": "markdown",
   "id": "5916f119",
   "metadata": {},
   "source": [
    "1층에서의 활성화 함수의 처리를 나타내면 다음과 같다."
   ]
  },
  {
   "cell_type": "markdown",
   "id": "87d0027d",
   "metadata": {},
   "source": [
    "<img src=\"images/3_18.png\" height=\"200px\" width=\"600px\">"
   ]
  },
  {
   "cell_type": "markdown",
   "id": "8a89ae38",
   "metadata": {},
   "source": [
    "여기서 1층은 은닉층이며, 이 안에서는 가중치에 입력값이 곱해지고 편향을 더한 값 $a$와 활성화 함수에 대입되어 신호로 변환되어 출력된 값을 $z$라 하자.<br>\n",
    "그럼 결과는 다음과 같다."
   ]
  },
  {
   "cell_type": "code",
   "execution_count": 4,
   "id": "fbddb21e",
   "metadata": {},
   "outputs": [
    {
     "name": "stdout",
     "output_type": "stream",
     "text": [
      "[0.3 0.7 1.1]\n",
      "[0.57444252 0.66818777 0.75026011]\n"
     ]
    }
   ],
   "source": [
    "Z1 = F.sigmoid(A1)\n",
    "\n",
    "print(A1)\n",
    "print(Z1)"
   ]
  },
  {
   "cell_type": "markdown",
   "id": "19e701f1",
   "metadata": {},
   "source": [
    "2층에서도 마찬가지로 처리한다.\n",
    "<img src=\"images/3_19.png\" height=\"200px\" width=\"500px\">"
   ]
  },
  {
   "cell_type": "code",
   "execution_count": 5,
   "id": "62c4f842",
   "metadata": {},
   "outputs": [
    {
     "name": "stdout",
     "output_type": "stream",
     "text": [
      "(3,)\n",
      "(3, 2)\n",
      "(2,)\n"
     ]
    }
   ],
   "source": [
    "W2 = np.array([[0.1, 0.4],[0.2, 0.5], [0.3, 0.6]])\n",
    "B2 = np.array([0.1, 0.2])\n",
    "\n",
    "print(Z1.shape)\n",
    "print(W2.shape)\n",
    "print(B2.shape)\n",
    "\n",
    "A2 = Z1@W2 + B2\n",
    "Z2 = F.sigmoid(A2)"
   ]
  },
  {
   "cell_type": "markdown",
   "id": "8531f4bc",
   "metadata": {},
   "source": [
    "마지막으로 2층에서 출력층으로 신호를 처리하면,\n",
    "<img src=\"images/3_20.png\" height=\"200px\" width=\"500px\">\n",
    "그리고 출력층의 활성화 함수는 은닉층의 활성화 함수와 다르다는 것을 명시하기 위해 $h()$가 아닌 $\\sigma ()$를 사용하였다."
   ]
  },
  {
   "cell_type": "code",
   "execution_count": 7,
   "id": "4547bcf5",
   "metadata": {},
   "outputs": [],
   "source": [
    "def identity_function(x):\n",
    "    return x\n",
    "\n",
    "W3 = np.array([[0.1, 0.3],[0.2, 0.4]])\n",
    "B3 = np.array([0.1, 0.2])\n",
    "\n",
    "A3 = Z2@W3 + B3\n",
    "Y = identity_function(A3)"
   ]
  },
  {
   "cell_type": "markdown",
   "id": "29def8cc",
   "metadata": {},
   "source": [
    "# 3.4.3 구현 정리"
   ]
  },
  {
   "cell_type": "markdown",
   "id": "8b381971",
   "metadata": {},
   "source": [
    "여태 까지 진행한 구현들을 정리하면 다음과 같다."
   ]
  },
  {
   "cell_type": "code",
   "execution_count": 8,
   "id": "3b7b576f",
   "metadata": {},
   "outputs": [
    {
     "name": "stdout",
     "output_type": "stream",
     "text": [
      "[0.31682708 0.69627909]\n"
     ]
    }
   ],
   "source": [
    "def init_network():\n",
    "    network = {}\n",
    "    network[\"W1\"] = np.array([[0.1, 0.3, 0.5], [0.2, 0.4, 0.6]])\n",
    "    network[\"W2\"] = np.array([[0.1, 0.4], [0.2, 0.5], [0.3, 0.6]])\n",
    "    network[\"W3\"] = np.array([[0.1, 0.3], [0.2, 0.4]])\n",
    "    network[\"b1\"] = np.array([0.1, 0.2, 0.3])\n",
    "    network[\"b2\"] = np.array([0.1, 0.2])\n",
    "    network[\"b3\"] = np.array([0.1, 0.2])\n",
    "    \n",
    "    return network\n",
    "\n",
    "def forward(network, x):\n",
    "    W1, W2, W3 = network[\"W1\"], network[\"W2\"], network[\"W3\"]\n",
    "    b1, b2, b3 = network[\"b1\"], network[\"b2\"], network[\"b3\"]\n",
    "    \n",
    "    a1 = x@W1 + b1\n",
    "    z1 = F.sigmoid(a1)\n",
    "    a2 = z1@W2 + b2\n",
    "    z2 = F.sigmoid(a2)\n",
    "    a3 = z2@W3 + b3\n",
    "    y = identity_function(a3)\n",
    "    \n",
    "    return y\n",
    "\n",
    "network = init_network()\n",
    "x = np.array([1.0, 0.5])\n",
    "y = forward(network, x)\n",
    "print(y)"
   ]
  },
  {
   "cell_type": "code",
   "execution_count": null,
   "id": "23be3fd2",
   "metadata": {},
   "outputs": [],
   "source": []
  }
 ],
 "metadata": {
  "kernelspec": {
   "display_name": "Python 3 (ipykernel)",
   "language": "python",
   "name": "python3"
  },
  "language_info": {
   "codemirror_mode": {
    "name": "ipython",
    "version": 3
   },
   "file_extension": ".py",
   "mimetype": "text/x-python",
   "name": "python",
   "nbconvert_exporter": "python",
   "pygments_lexer": "ipython3",
   "version": "3.7.1"
  }
 },
 "nbformat": 4,
 "nbformat_minor": 5
}
