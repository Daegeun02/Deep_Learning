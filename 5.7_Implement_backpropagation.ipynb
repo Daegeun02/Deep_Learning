{
 "cells": [
  {
   "cell_type": "markdown",
   "id": "819ce576",
   "metadata": {},
   "source": [
    "앞 절에서 구현한 계층들을 조합하면 마치 레고 블록을 조합하듯 신경망을 구축할 수 있다.<br>\n",
    "이번 절에서는 지금까지 구현한 계층을 조합해서 신경망을 구축해보자."
   ]
  },
  {
   "cell_type": "markdown",
   "id": "ee54d33d",
   "metadata": {},
   "source": [
    "# 5.7.1 신경망 학습의 전체 그림"
   ]
  },
  {
   "cell_type": "markdown",
   "id": "dab108b9",
   "metadata": {},
   "source": [
    "내용이 길어졌으니, 구체적인 구현에 앞서 신경망 학습의 전체 그림을 복습해보자. 다음은 신경망 학습의 순서이다.\n",
    "#### 전제\n",
    "신경망에는 적응 가능한 가중치와 편향이 있고, 이 가중치와 편향을 훈련 데이터에 적응하도록 조정하는 과정을 \"학습\"이라고 한다. 신경망 학습은 다음과 같이 4단계로 수행한다.\n",
    "#### 1단계 - 미니배치\n",
    "훈련 데이터 중 일부를 무작위로 가져온다. 이렇게 선별한 데이터를 미니배치라 하며, 그 미니배치의 손실 함수 값을 줄이는 것이 목표이다.\n",
    "#### 2단계 - 기울기 산출\n",
    "미니배치의 손실 함수 값을 줄이기 위해 각 가중치 매개변수의 기울기를 구한다. 기울기는 손실 함수의 값을 가장 작게 하는 방향을 제시한다.\n",
    "#### 3단계 - 매개변수 갱신\n",
    "가중치 매개변수를 기울기 방향으로 아주 조금 갱신한다.\n",
    "#### 4단계 - 반복\n",
    "1~3단계를 반복한다.\n",
    "\n",
    "지금까지 설명한 오차역전파법이 등장하는 단계는 2단계인 \"기울기 산출\"이다. 수치 미분은 구현하기는 쉽지만 계산은 오래 걸렸다. 하지만 오차역전파법은 효율적이고 빠르게 기울기를 구할 수 있다."
   ]
  },
  {
   "cell_type": "markdown",
   "id": "e4a80dba",
   "metadata": {},
   "source": [
    "# 5.7.2 오차역전파법을 적용한 신경망 구현하기"
   ]
  },
  {
   "cell_type": "markdown",
   "id": "616315f4",
   "metadata": {},
   "source": [
    "여기에서는 2층 신경망을 TwoLayerNet 클래스로 구현한다.<br>\n",
    "우선은 이 클래스의 인스턴스 변수와 메소드를 정리한 표를 보자.\n",
    "\n",
    "<img src=images/5_31.png height=100px width=500px>"
   ]
  },
  {
   "cell_type": "code",
   "execution_count": 1,
   "id": "6c90cb8d",
   "metadata": {},
   "outputs": [],
   "source": [
    "import sys, os\n",
    "sys.path.append(os.pardir)\n",
    "import numpy as np\n",
    "from functions import *\n",
    "from Layers import *\n",
    "from collections import OrderedDict\n",
    "\n",
    "class TwoLayerNet:\n",
    "    \n",
    "    def __init__(self, input_size, hidden_size, output_size, weight_init_std=0.01):\n",
    "        \n",
    "        ## 파리미터 초기화\n",
    "        self.params = {}\n",
    "        self.params[\"W1\"] = weight_init_std * np.random.randn(input_size, hidden_size)\n",
    "        self.params[\"W2\"] = weight_init_std * np.random.randn(hidden_size, output_size)\n",
    "        self.params[\"b1\"] = np.zeros(hidden_size)\n",
    "        self.params[\"b2\"] = np.zeros(output_size)\n",
    "        \n",
    "        ## 계층 생성\n",
    "        self.layers = OrderedDict()\n",
    "        self.layers[\"Affine1\"] = AffineLayer(self.params[\"W1\"], self.params[\"b1\"])\n",
    "        self.layers[\"ReLU\"] = ReLULayer()\n",
    "        self.layers[\"Affine2\"] = AffineLayer(self.params[\"W2\"], self.params[\"b2\"])\n",
    "        self.lastlayer = SoftmaxLossLayer()\n",
    "                \n",
    "    def predict(self, x):\n",
    "        for layer in self.layers.values():\n",
    "            x = layer.forward(x)\n",
    "        \n",
    "        return x\n",
    "    \n",
    "    def loss(self, x, t):\n",
    "        y = self.predict(x)\n",
    "        \n",
    "        return self.lastlayer.forward(y, t)\n",
    "\n",
    "    def accuracy(self, x, t):\n",
    "        y = self.predict(x)\n",
    "        y = np.argmax(y, axis=1)\n",
    "        \n",
    "        if t.ndim != 1:\n",
    "            t = np.argmax(t, axis=1)\n",
    "            \n",
    "        acc = np.sum(y == t) / float(x.shape[0])\n",
    "        \n",
    "        return acc\n",
    "    \n",
    "    def numerical_gradient(self, x, t):\n",
    "        loss_W = lambda W:self.loss(x, t)\n",
    "        \n",
    "        grads = {}\n",
    "        grads[\"W1\"] = numerical_gradient(loss_W, self.params[\"W1\"])\n",
    "        grads[\"W2\"] = numerical_gradient(loss_W, self.params[\"W2\"])\n",
    "        grads[\"b1\"] = numerical_gradient(loss_W, self.params[\"b1\"])\n",
    "        grads[\"b2\"] = numerical_gradient(loss_W, self.params[\"b2\"])\n",
    "        \n",
    "        return grads\n",
    "    \n",
    "    def gradient(self, x, t):\n",
    "        \n",
    "        ## 순전파\n",
    "        self.loss(x, t)\n",
    "        \n",
    "        ## 역전파\n",
    "        dout = 1\n",
    "        dout = self.lastlayer.backward(dout)\n",
    "        \n",
    "        layers = list(self.layers.values())\n",
    "        layers.reverse()\n",
    "        for layer in layers:\n",
    "            dout = layer.backward(dout)\n",
    "            \n",
    "        grads = {}\n",
    "        grads[\"W1\"] = self.layers[\"Affine1\"].dW\n",
    "        grads[\"b1\"] = self.layers[\"Affine1\"].db\n",
    "        grads[\"W2\"] = self.layers[\"Affine2\"].dW\n",
    "        grads[\"b2\"] = self.layers[\"Affine2\"].db\n",
    "        \n",
    "        return grads"
   ]
  },
  {
   "cell_type": "markdown",
   "id": "a231577d",
   "metadata": {},
   "source": [
    "여기서 OrderedDict란 순서가 있는 딕셔너리로, 딕셔너리에 추가한 순서를 기억하는 딕셔너리이다. 따라서 순전파 때는 추가한 순서대로 각 계층의 forward()메소드를 호출하면 완료된다. 마찬가지로 역전파 때는 계층을 반대 순서로 호출하기만 하면 된다. Affine 계층과 ReLU 계층이 각자의 내부에서 순전파와 역전파를 제대로 처리하고 있으니, 여기에서는 그냥 계층을 올바른 순서로 연결한 다음 수서대로(혹은 역순으로) 호출해주면 끝이다. 이처럼 신경망의 구성 요소를 \"계층\"으로 구현한 덕분에 신경망을 쉽게 구축할 수 있고, 층이 많아진다 하더라도 층을 층을 추가하기만 하면 되는 간단한 과정을 거치면 된다.(레고를 조립하듯이)"
   ]
  },
  {
   "cell_type": "markdown",
   "id": "95301a8e",
   "metadata": {},
   "source": [
    "# 5.7.3 오차역전파법으로 구한 기울기 검증하기"
   ]
  },
  {
   "cell_type": "markdown",
   "id": "ec3b0cf1",
   "metadata": {},
   "source": [
    "지금까지 기울기를 구하는 방법을 두 가지 설명하였다. 하나는 수치 미분이고, 다른 하나는 오차역전파법이다. 수치 미분은 간단하고 정확한 대신 오래걸리는 단점이 있고, 오차역전파법은 빠르고 효율적인 대신 복잡성에 의해 오류가 있을 가능성이 있다. 따라서 수치 미분 결과와 오차역전파법의 결과를 비교하여 오차역전파법을 제대로 구현했는지 검증하곤 한다.<br>\n",
    "이 기울기 검증을 구현해보자."
   ]
  },
  {
   "cell_type": "code",
   "execution_count": 2,
   "id": "544a301c",
   "metadata": {},
   "outputs": [
    {
     "name": "stdout",
     "output_type": "stream",
     "text": [
      "W1: 1.737514688054628e-13\n",
      "W2: 7.224250211988834e-13\n",
      "b1: 8.307168592337072e-13\n",
      "b2: 1.201261340399995e-10\n"
     ]
    }
   ],
   "source": [
    "import sys, os\n",
    "sys.path.append(os.pardir)\n",
    "import numpy as np\n",
    "from source.dataset.mnist import load_mnist\n",
    "\n",
    "## 데이터 읽기\n",
    "(x_train, t_train), (x_test, t_test) = load_mnist(normalize=True, one_hot_label=True)\n",
    "\n",
    "network = TwoLayerNet(input_size=784, hidden_size=50, output_size=10)\n",
    "\n",
    "x_batch = x_train[:3]\n",
    "t_batch = t_train[:3]\n",
    "\n",
    "grad_numerical = network.numerical_gradient(x_batch, t_batch)\n",
    "grad_backprop = network.gradient(x_batch, t_batch)\n",
    "\n",
    "for key in grad_numerical.keys():\n",
    "    diff = np.average(np.abs(grad_numerical[key] - grad_backprop[key]))\n",
    "    print(f\"{key}: {diff}\")"
   ]
  },
  {
   "cell_type": "markdown",
   "id": "56edbc03",
   "metadata": {},
   "source": [
    "# 5.7.4 오차역전파법을 사용한 학습 구현하기"
   ]
  },
  {
   "cell_type": "markdown",
   "id": "7a6e9073",
   "metadata": {},
   "source": [
    "마지막으로 오차역전파법을 사용한 신경망 학습을 구현해보자. 지금까지와 다른 부분은 기울기를 오차역전파법으로 구한다는 점뿐이다. "
   ]
  },
  {
   "cell_type": "code",
   "execution_count": 3,
   "id": "bf8f0852",
   "metadata": {
    "scrolled": true
   },
   "outputs": [
    {
     "name": "stdout",
     "output_type": "stream",
     "text": [
      "epoch=1: 0.1122,         epoch=1: 0.116\n",
      "epoch=2: 0.9038,         epoch=2: 0.9069\n",
      "epoch=3: 0.9228,         epoch=3: 0.9246\n",
      "epoch=4: 0.9359,         epoch=4: 0.9356\n",
      "epoch=5: 0.9429,         epoch=5: 0.9392\n",
      "epoch=6: 0.9505,         epoch=6: 0.9457\n",
      "epoch=7: 0.9547,         epoch=7: 0.9498\n",
      "epoch=8: 0.9602,         epoch=8: 0.9548\n",
      "epoch=9: 0.9616,         epoch=9: 0.9559\n",
      "epoch=10: 0.9662,         epoch=10: 0.9589\n",
      "epoch=11: 0.969,         epoch=11: 0.9625\n",
      "epoch=12: 0.9712,         epoch=12: 0.964\n",
      "epoch=13: 0.9728,         epoch=13: 0.966\n",
      "epoch=14: 0.9737,         epoch=14: 0.9645\n",
      "epoch=15: 0.9756,         epoch=15: 0.9669\n",
      "epoch=16: 0.9774,         epoch=16: 0.9688\n",
      "epoch=17: 0.9787,         epoch=17: 0.9713\n"
     ]
    }
   ],
   "source": [
    "import sys, os\n",
    "sys.path.append(os.pardir)\n",
    "import numpy as np\n",
    "from source.dataset.mnist import load_mnist\n",
    "\n",
    "## 데이터 읽기\n",
    "(x_train, t_train), (x_test, t_test) = load_mnist(normalize=True, one_hot_label=True)\n",
    "\n",
    "iters_num = 10000\n",
    "train_size = x_train.shape[0]\n",
    "batch_size = 100\n",
    "learning_rate = 0.1\n",
    "\n",
    "train_loss_list = []\n",
    "train_acc_list = []\n",
    "test_acc_list = []\n",
    "\n",
    "iter_per_epoch = max(train_size / batch_size, 1)\n",
    "\n",
    "network = TwoLayerNet(input_size=784, hidden_size=50, output_size=10)\n",
    "\n",
    "for i in range(iters_num):\n",
    "    batch_mask = np.random.choice(train_size, batch_size)\n",
    "    x_batch = x_train[batch_mask]\n",
    "    t_batch = t_train[batch_mask]\n",
    "    \n",
    "    grad = network.gradient(x_batch, t_batch)\n",
    "    \n",
    "    ## 갱신\n",
    "    for key in (\"W1\", \"b1\", \"W2\", \"b2\"):\n",
    "        network.params[key] -= learning_rate * grad[key]\n",
    "        \n",
    "    loss = network.loss(x_batch, t_batch)\n",
    "    train_loss_list.append(loss)\n",
    "    \n",
    "    if (i % iter_per_epoch) == 0:\n",
    "        train_acc = network.accuracy(x_train, t_train)\n",
    "        test_acc = network.accuracy(x_test, t_test)\n",
    "        train_acc_list.append(train_acc)\n",
    "        test_acc_list.append(test_acc)\n",
    "        print(f\"epoch={int(i // iter_per_epoch)+1}: {np.round(train_acc, 4)}, \\\n",
    "        epoch={int(i // iter_per_epoch)+1}: {np.round(test_acc, 4)}\")"
   ]
  },
  {
   "cell_type": "markdown",
   "id": "b2c02f71",
   "metadata": {},
   "source": [
    "정확도의 추이를 시각화 해보자."
   ]
  },
  {
   "cell_type": "code",
   "execution_count": 4,
   "id": "a105c2b3",
   "metadata": {},
   "outputs": [
    {
     "data": {
      "image/png": "[encoded data removed]",
      "text/plain": [
       "<Figure size 864x432 with 2 Axes>"
      ]
     },
     "metadata": {
      "needs_background": "light"
     },
     "output_type": "display_data"
    }
   ],
   "source": [
    "import matplotlib.pyplot as plt\n",
    "\n",
    "epochs = np.arange(len(train_acc_list))\n",
    "iters = np.arange(len(train_loss_list))\n",
    "\n",
    "plt.figure(figsize=(12, 6))\n",
    "\n",
    "plt.subplot(121)\n",
    "plt.plot(epochs, train_acc_list, label=\"train acc\")\n",
    "plt.plot(epochs, test_acc_list, label=\"test acc\", linestyle=\"--\")\n",
    "plt.title(\"Accuracy per Epochs\")\n",
    "plt.xlabel(\"epochs\")\n",
    "plt.ylabel(\"accuracy\")\n",
    "plt.legend()\n",
    "plt.grid()\n",
    "\n",
    "plt.subplot(122)\n",
    "plt.plot(iters, train_loss_list, label=\"loss\")\n",
    "plt.title(\"Loss per Epochs\")\n",
    "plt.xlabel(\"epochs\")\n",
    "plt.ylabel(\"loss\")\n",
    "plt.legend()\n",
    "plt.grid()\n",
    "\n",
    "plt.show()"
   ]
  },
  {
   "cell_type": "markdown",
   "id": "742e278b",
   "metadata": {},
   "source": [
    "그래프에서 볼 수 있듯이 어느 한 데이터셋에 과도하게 적응하지 않고 고루고루 높은 점수를 보여주고 있다. 즉, 오버피팅이 일어나지 않았다."
   ]
  }
 ],
 "metadata": {
  "kernelspec": {
   "display_name": "Python 3 (ipykernel)",
   "language": "python",
   "name": "python3"
  },
  "language_info": {
   "codemirror_mode": {
    "name": "ipython",
    "version": 3
   },
   "file_extension": ".py",
   "mimetype": "text/x-python",
   "name": "python",
   "nbconvert_exporter": "python",
   "pygments_lexer": "ipython3",
   "version": "3.7.1"
  }
 },
 "nbformat": 4,
 "nbformat_minor": 5
}
