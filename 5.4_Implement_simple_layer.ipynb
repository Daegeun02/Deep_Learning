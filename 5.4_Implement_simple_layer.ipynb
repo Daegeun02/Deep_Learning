{
 "cells": [
  {
   "cell_type": "markdown",
   "id": "50164613",
   "metadata": {},
   "source": [
    "지금까지 보아온 \"사과 쇼핑\" 예를 파이썬으로 구현한다. 여기에서는 계산 그래프의 곱셈 노드를 \"MulLayer\", 덧셈 노드를 \"AddLaye\"라는 이름으로 구현한다."
   ]
  },
  {
   "cell_type": "markdown",
   "id": "dd8693d5",
   "metadata": {},
   "source": [
    "# 5.4.1 곱셈 계층"
   ]
  },
  {
   "cell_type": "markdown",
   "id": "47329d26",
   "metadata": {},
   "source": [
    "모든 계층은 forward()와 backward()라는 공통 메소드를 갖도록 구현할 것이다. forward()는 순전파, backward()는 역전파를 처리한다."
   ]
  },
  {
   "cell_type": "code",
   "execution_count": 1,
   "id": "1598d89c",
   "metadata": {},
   "outputs": [],
   "source": [
    "class MulLayer:\n",
    "    def __init__(self):\n",
    "        self.x = None\n",
    "        self.y = None\n",
    "        \n",
    "    def forward(self, x, y):\n",
    "        self.x = x\n",
    "        self.y = y\n",
    "        out = x * y\n",
    "        \n",
    "        return out\n",
    "    \n",
    "    def backward(self, dout):\n",
    "        dx = dout * self.y\n",
    "        dy = dout * self.x\n",
    "        \n",
    "        return dx, dy"
   ]
  },
  {
   "cell_type": "markdown",
   "id": "aadea659",
   "metadata": {},
   "source": [
    "\"init()\"에서는 인스턴스 변수인 x와 y를 초기화 한다. 이 두 변수는 순전파 시의 입력값을 유지하기 위해서 사용한다. forward()에서는 x와 y를 인수로 받고 두 값을 곱해서 반환한다. forward()에서는 x와 y를 인수로 받고 두 값을 곱해서 반환한다. 반면 backward()에서는 상류에서 넘어온 미분에 순전파 대의 값을 \"서로 바꿔\" 곱한 후 하류로 흘린다.<br>\n",
    "이상이 MulLayer의 구현이다. 이 MulLayer를 사용해서 앞에서 본 \"사과 쇼핑\"을 구현해보자. 앞 절에서는 계산 그래프의 순전파와 역전파를 써서 다음 그림과 같이 계산할 수 있었다.\n",
    "\n",
    "<img src=images/5_16.png height=100px width=500px>"
   ]
  },
  {
   "cell_type": "code",
   "execution_count": 4,
   "id": "d217aab3",
   "metadata": {},
   "outputs": [
    {
     "name": "stdout",
     "output_type": "stream",
     "text": [
      "220.00000000000003\n"
     ]
    }
   ],
   "source": [
    "apple = 100\n",
    "apple_num = 2\n",
    "tax = 1.1\n",
    "\n",
    "mul_apple_layer = MulLayer()\n",
    "mul_tax_layer = MulLayer()\n",
    "\n",
    "apple_price = mul_apple_layer.forward(apple, apple_num)\n",
    "price = mul_tax_layer.forward(apple_price, tax)\n",
    "\n",
    "print(price)"
   ]
  },
  {
   "cell_type": "markdown",
   "id": "bafa8297",
   "metadata": {},
   "source": [
    "또 각 변수에 대한 미분은 backward()에서 구할 수 있다."
   ]
  },
  {
   "cell_type": "code",
   "execution_count": 5,
   "id": "5ffc3204",
   "metadata": {},
   "outputs": [
    {
     "name": "stdout",
     "output_type": "stream",
     "text": [
      "2.2 110.00000000000001 200\n"
     ]
    }
   ],
   "source": [
    "dprice = 1\n",
    "dapple_price, dtax = mul_tax_layer.backward(dprice)\n",
    "dapple, dapple_num = mul_apple_layer.backward(dapple_price)\n",
    "\n",
    "print(dapple, dapple_num, dtax)"
   ]
  },
  {
   "cell_type": "markdown",
   "id": "a7edba90",
   "metadata": {},
   "source": [
    "backward()가 받는 인수는 순전파의 출력에 의한 미분임을 유의하자."
   ]
  },
  {
   "cell_type": "markdown",
   "id": "d57f811c",
   "metadata": {},
   "source": [
    "# 5.4.2 덧셈 계층"
   ]
  },
  {
   "cell_type": "code",
   "execution_count": 8,
   "id": "2fa715c5",
   "metadata": {},
   "outputs": [],
   "source": [
    "class AddLayer:\n",
    "    def __init__(self):\n",
    "        pass\n",
    "        \n",
    "    def forward(self, x, y):\n",
    "        out = x + y\n",
    "        \n",
    "        return out\n",
    "    \n",
    "    def backward(self, dout):\n",
    "        dx = dout * 1\n",
    "        dy = dout * 1\n",
    "        \n",
    "        return dx, dy"
   ]
  },
  {
   "cell_type": "markdown",
   "id": "51ab7b55",
   "metadata": {},
   "source": [
    "덧셈 계층에서는 포기화가 필요 없으니 init()에서는 아무 일도 하지 않는다. 덧셈 계층의 forward()에서는 입력받은 두 인수 x, y를 더해서 반환한다. backward()에서는 상류에서 내려온 미분(dout)을 그대로 하류로 흘릴 뿐이다.\n",
    "이상의 덧셈 계층과 곱셈 계층을 사용하여 사과 2개와 귤 3개를 사는 다음의 상황을 구현해보자.\n",
    "\n",
    "<img src=images/5_17.png height=100px width=500px>"
   ]
  },
  {
   "cell_type": "code",
   "execution_count": 10,
   "id": "6541c866",
   "metadata": {},
   "outputs": [
    {
     "name": "stdout",
     "output_type": "stream",
     "text": [
      "715.0000000000001\n"
     ]
    }
   ],
   "source": [
    "apple = 100\n",
    "apple_num = 2\n",
    "mandarin = 150\n",
    "mandarin_num = 3\n",
    "tax = 1.1\n",
    "\n",
    "mul_apple_layer = MulLayer()\n",
    "mul_mandarin_layer = MulLayer()\n",
    "add_price_layer = AddLayer()\n",
    "mul_tax_layer = MulLayer()\n",
    "\n",
    "apple_price = mul_apple_layer.forward(apple, apple_num)\n",
    "mandarin_price = mul_mandarin_layer.forward(mandarin, mandarin_num)\n",
    "total_price = add_price_layer.forward(apple_price, mandarin_price)\n",
    "price = mul_tax_layer.forward(total_price, tax)\n",
    "\n",
    "print(price)"
   ]
  },
  {
   "cell_type": "markdown",
   "id": "046731c1",
   "metadata": {},
   "source": [
    "코드가 다소 길어졌지만, 하나하나의 명령은 단순하다. 필요한 계층을 만들어 순전파 메소드인 forward()를 적절한 순서로 호출한다. 그런 다음 순전파와 반대 순서로 역전파 메소드인 backward()를 호출하면 원하는 미분이 나온다."
   ]
  },
  {
   "cell_type": "markdown",
   "id": "6a31d750",
   "metadata": {},
   "source": [
    "이처럼 계산 그래프에서의 계층은 쉽게 구현할 수 있으며, 이를 사용해 복잡한 미분도 계산할 수 있다. 다음 절에서는 신경마에서 사용하는 계층을 구현해보자."
   ]
  }
 ],
 "metadata": {
  "kernelspec": {
   "display_name": "Python 3 (ipykernel)",
   "language": "python",
   "name": "python3"
  },
  "language_info": {
   "codemirror_mode": {
    "name": "ipython",
    "version": 3
   },
   "file_extension": ".py",
   "mimetype": "text/x-python",
   "name": "python",
   "nbconvert_exporter": "python",
   "pygments_lexer": "ipython3",
   "version": "3.7.1"
  }
 },
 "nbformat": 4,
 "nbformat_minor": 5
}
